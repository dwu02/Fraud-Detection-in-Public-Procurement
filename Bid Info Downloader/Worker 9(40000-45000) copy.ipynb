{
 "cells": [
  {
   "cell_type": "code",
   "execution_count": 1,
   "id": "ff12e52e",
   "metadata": {},
   "outputs": [],
   "source": [
    "from selenium import webdriver\n",
    "from selenium.webdriver.chrome.service import Service\n",
    "from selenium.webdriver.common.by import By\n",
    "from webdriver_manager.chrome import ChromeDriverManager\n",
    "from tqdm import tqdm\n",
    "import math\n",
    "import time\n",
    "import os\n",
    "import polars as pl\n",
    "import concurrent.futures\n",
    "\n",
    "def driversetup():\n",
    "    options = webdriver.ChromeOptions()\n",
    "    #run Selenium in headless mode\n",
    "    options.add_argument('--headless')\n",
    "    options.add_argument('--no-sandbox')\n",
    "    #overcome limited resource problems\n",
    "    options.add_argument('--disable-dev-shm-usage')\n",
    "    options.add_argument(\"lang=en\")\n",
    "    #open Browser in maximized mode\n",
    "    options.add_argument(\"start-maximized\")\n",
    "    #disable infobars\n",
    "    options.add_argument(\"disable-infobars\")\n",
    "    #disable extension\n",
    "    options.add_argument(\"--disable-extensions\")\n",
    "#     options.add_argument(\"--incognito\")\n",
    "    options.add_argument(\"--disable-blink-features=AutomationControlled\")\n",
    "    options.add_experimental_option('excludeSwitches', ['enable-logging'])\n",
    "    driver = webdriver.Chrome(options=options)\n",
    "    driver.execute_script(\"Object.defineProperty(navigator, 'webdriver', {get: () => undefined});\")\n",
    "    return driver\n",
    "\n",
    "BASE_URL = 'https://www.fpds.gov/ezsearch/search.do?indexName=awardfull&templateName=1.5.3&s=FPDS.GOV&q='\n",
    "cur_dir = os.path.dirname(os.getcwd())\n",
    "naics_data_dir = os.path.join(cur_dir, 'NAICS Processed')\n",
    "df = pl.read_csv(os.path.join(naics_data_dir, '236220_second_proc.csv'))\n",
    "df.head()\n",
    "\n",
    "special_comp_params = [\"Follow On to Competed Action\",\n",
    "                       \"Not Available for Competition\",\n",
    "                       \"Not Competed\"]"
   ]
  },
  {
   "cell_type": "code",
   "execution_count": 2,
   "id": "042f9634",
   "metadata": {},
   "outputs": [],
   "source": [
    "ranges = [40000,45000]"
   ]
  },
  {
   "cell_type": "code",
   "execution_count": 4,
   "id": "7d72b7f3",
   "metadata": {},
   "outputs": [
    {
     "name": "stderr",
     "output_type": "stream",
     "text": [
      "Processing rows: 100%|█████████████████████████████████████████████████████████████| 5000/5000 [03:20<00:00, 24.95it/s]\n"
     ]
    }
   ],
   "source": [
    "# initial run through\n",
    "driver = driversetup()\n",
    "   \n",
    "comp_type = []\n",
    "bids = []\n",
    "\n",
    "driver.get(BASE_URL)\n",
    "\n",
    "for row in tqdm(df[ranges[0]:ranges[1]].iter_rows(named=True), total=ranges[1] - ranges[0], desc=\"Processing rows\"):\n",
    "    contract_id = row['Contract ID']\n",
    "    try:\n",
    "        search_input = driver.find_element(\"id\", \"searchText\")\n",
    "    except:\n",
    "        comp_type.append('Error')\n",
    "        bids.append(0)\n",
    "        continue\n",
    "    search_input.clear()  # clear input\n",
    "    search_input.send_keys(contract_id)  # send new contract\n",
    "    time.sleep(0.1)\n",
    "    # click search button\n",
    "    driver.find_element(By.XPATH, \"/html/body/form/table/tbody/tr[2]/td[2]/input\").click()\n",
    "    original_window = driver.current_window_handle\n",
    "    # get the original contract\n",
    "    view_query = f'/html/body/table[4]/tbody/tr/td[2]/table/tbody/tr[2]/td/table/tbody/tr/td/table[1]/tbody/tr[1]/td[2]/span/a[3]'\n",
    "    try:\n",
    "        driver.find_element(By.XPATH, view_query).click()\n",
    "    except:\n",
    "        comp_type.append('Error')\n",
    "        bids.append(0)\n",
    "        continue\n",
    "    # switch tabs\n",
    "    all_windows = driver.window_handles\n",
    "\n",
    "    for window in all_windows:\n",
    "        if window != original_window:\n",
    "            driver.switch_to.window(window)\n",
    "            break  # Switch to the newest tab and exit the loop\n",
    "\n",
    "    # get extent competed\n",
    "    try:\n",
    "        extent = driver.find_element(By.CSS_SELECTOR, \"#extentCompeted option:checked\").text\n",
    "    except:\n",
    "        comp_type.append('Error')\n",
    "        bids.append(0)\n",
    "        continue\n",
    "    \n",
    "    # get number of bids\n",
    "    bid_num = 1\n",
    "    if extent not in special_comp_params: # if normal competition\n",
    "        bid_num = driver.find_element(By.ID, \"numberOfOffersReceived\").get_attribute(\"value\")\n",
    "\n",
    "    # switch back to original window and close the others\n",
    "    for window in driver.window_handles:\n",
    "        if window != original_window:\n",
    "            driver.switch_to.window(window)\n",
    "            driver.close() \n",
    "            \n",
    "    # add to lists\n",
    "    comp_type.append('Open' if extent not in special_comp_params else 'Restricted')\n",
    "    bids.append(bid_num)\n",
    "            \n",
    "    driver.switch_to.window(original_window)"
   ]
  },
  {
   "cell_type": "code",
   "execution_count": null,
   "id": "e7e92be2",
   "metadata": {},
   "outputs": [],
   "source": [
    "df = df[ranges[0]:ranges[1]]\n",
    "merged_df = df.with_columns([\n",
    "    pl.Series('Competition Type', comp_type),\n",
    "    pl.Series('Bids', bids)\n",
    "])\n",
    "\n",
    "save_dir = os.path.join(os.getcwd(), f'{ranges[0]}_{ranges[1]}.csv')\n",
    "merged_df.write_csv(save_dir)"
   ]
  },
  {
   "cell_type": "code",
   "execution_count": null,
   "id": "535b51e5",
   "metadata": {},
   "outputs": [],
   "source": []
  }
 ],
 "metadata": {
  "kernelspec": {
   "display_name": "Python 3 (ipykernel)",
   "language": "python",
   "name": "python3"
  },
  "language_info": {
   "codemirror_mode": {
    "name": "ipython",
    "version": 3
   },
   "file_extension": ".py",
   "mimetype": "text/x-python",
   "name": "python",
   "nbconvert_exporter": "python",
   "pygments_lexer": "ipython3",
   "version": "3.9.12"
  }
 },
 "nbformat": 4,
 "nbformat_minor": 5
}
