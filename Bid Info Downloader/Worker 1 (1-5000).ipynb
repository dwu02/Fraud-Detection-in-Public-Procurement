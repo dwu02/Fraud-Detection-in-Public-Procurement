{
 "cells": [
  {
   "cell_type": "code",
   "execution_count": 1,
   "id": "4b2bb88c",
   "metadata": {},
   "outputs": [],
   "source": [
    "from selenium import webdriver\n",
    "from selenium.webdriver.chrome.service import Service\n",
    "from selenium.webdriver.common.by import By\n",
    "from webdriver_manager.chrome import ChromeDriverManager\n",
    "from tqdm import tqdm\n",
    "import math\n",
    "import time\n",
    "import os\n",
    "import polars as pl\n",
    "import concurrent.futures\n",
    "\n",
    "def driversetup():\n",
    "    options = webdriver.ChromeOptions()\n",
    "    #run Selenium in headless mode\n",
    "    options.add_argument('--headless')\n",
    "    options.add_argument('--no-sandbox')\n",
    "    #overcome limited resource problems\n",
    "    options.add_argument('--disable-dev-shm-usage')\n",
    "    options.add_argument(\"lang=en\")\n",
    "    #open Browser in maximized mode\n",
    "    options.add_argument(\"start-maximized\")\n",
    "    #disable infobars\n",
    "    options.add_argument(\"disable-infobars\")\n",
    "    #disable extension\n",
    "    options.add_argument(\"--disable-extensions\")\n",
    "#     options.add_argument(\"--incognito\")\n",
    "    options.add_argument(\"--disable-blink-features=AutomationControlled\")\n",
    "    options.add_experimental_option('excludeSwitches', ['enable-logging'])\n",
    "    driver = webdriver.Chrome(options=options)\n",
    "    driver.execute_script(\"Object.defineProperty(navigator, 'webdriver', {get: () => undefined});\")\n",
    "    return driver\n",
    "\n",
    "BASE_URL = 'https://www.fpds.gov/ezsearch/search.do?indexName=awardfull&templateName=1.5.3&s=FPDS.GOV&q='\n",
    "cur_dir = os.path.dirname(os.getcwd())\n",
    "naics_data_dir = os.path.join(cur_dir, 'NAICS Processed')\n",
    "df = pl.read_csv(os.path.join(naics_data_dir, '236220_second_proc.csv'))\n",
    "df.head()\n",
    "\n",
    "special_comp_params = [\"Follow On to Competed Action\",\n",
    "                       \"Not Available for Competition\",\n",
    "                       \"Not Competed\"]"
   ]
  },
  {
   "cell_type": "code",
   "execution_count": 4,
   "id": "249d1f3c",
   "metadata": {},
   "outputs": [
    {
     "data": {
      "application/vnd.jupyter.widget-view+json": {
       "model_id": "e223858d428c40f7881dbbfe6fdb566a",
       "version_major": 2,
       "version_minor": 0
      },
      "text/plain": [
       "Overall Progress:   0%|          | 0/10 [00:00<?, ?it/s]"
      ]
     },
     "metadata": {},
     "output_type": "display_data"
    },
    {
     "data": {
      "application/vnd.jupyter.widget-view+json": {
       "model_id": "d132342894fc4291b59a2abe74c512b4",
       "version_major": 2,
       "version_minor": 0
      },
      "text/plain": [
       "Thread 2:   0%|          | 0/5296 [00:00<?, ?it/s]"
      ]
     },
     "metadata": {},
     "output_type": "display_data"
    },
    {
     "data": {
      "application/vnd.jupyter.widget-view+json": {
       "model_id": "84e44420f97f4c9faf9e44b09546f845",
       "version_major": 2,
       "version_minor": 0
      },
      "text/plain": [
       "Thread 1:   0%|          | 0/5296 [00:00<?, ?it/s]"
      ]
     },
     "metadata": {},
     "output_type": "display_data"
    },
    {
     "data": {
      "application/vnd.jupyter.widget-view+json": {
       "model_id": "127c1c1606ea47d18865de3b47238aba",
       "version_major": 2,
       "version_minor": 0
      },
      "text/plain": [
       "Thread 0:   0%|          | 0/5296 [00:00<?, ?it/s]"
      ]
     },
     "metadata": {},
     "output_type": "display_data"
    },
    {
     "data": {
      "application/vnd.jupyter.widget-view+json": {
       "model_id": "d35af935fd0e4aca9a6f857a9e129858",
       "version_major": 2,
       "version_minor": 0
      },
      "text/plain": [
       "Thread 3:   0%|          | 0/5296 [00:00<?, ?it/s]"
      ]
     },
     "metadata": {},
     "output_type": "display_data"
    },
    {
     "data": {
      "application/vnd.jupyter.widget-view+json": {
       "model_id": "a84898fc166747fa9e573cbc540a3f49",
       "version_major": 2,
       "version_minor": 0
      },
      "text/plain": [
       "Thread 4:   0%|          | 0/5296 [00:00<?, ?it/s]"
      ]
     },
     "metadata": {},
     "output_type": "display_data"
    },
    {
     "data": {
      "application/vnd.jupyter.widget-view+json": {
       "model_id": "d668d05e21c7478fb2fbd5a42364d01c",
       "version_major": 2,
       "version_minor": 0
      },
      "text/plain": [
       "Thread 5:   0%|          | 0/5296 [00:00<?, ?it/s]"
      ]
     },
     "metadata": {},
     "output_type": "display_data"
    },
    {
     "data": {
      "application/vnd.jupyter.widget-view+json": {
       "model_id": "9e3153e5d33e4324931ac50a1ef49d7e",
       "version_major": 2,
       "version_minor": 0
      },
      "text/plain": [
       "Thread 6:   0%|          | 0/5296 [00:00<?, ?it/s]"
      ]
     },
     "metadata": {},
     "output_type": "display_data"
    },
    {
     "data": {
      "application/vnd.jupyter.widget-view+json": {
       "model_id": "fee00d7a43dd42a1a2a57fad3d356711",
       "version_major": 2,
       "version_minor": 0
      },
      "text/plain": [
       "Thread 8:   0%|          | 0/5296 [00:00<?, ?it/s]"
      ]
     },
     "metadata": {},
     "output_type": "display_data"
    },
    {
     "data": {
      "application/vnd.jupyter.widget-view+json": {
       "model_id": "c27e016ee04748f692421339d2a42d3a",
       "version_major": 2,
       "version_minor": 0
      },
      "text/plain": [
       "Thread 7:   0%|          | 0/5296 [00:00<?, ?it/s]"
      ]
     },
     "metadata": {},
     "output_type": "display_data"
    },
    {
     "data": {
      "application/vnd.jupyter.widget-view+json": {
       "model_id": "88ba9542a9dd4758b36a1d40041e9f30",
       "version_major": 2,
       "version_minor": 0
      },
      "text/plain": [
       "Thread 9:   0%|          | 0/5305 [00:00<?, ?it/s]"
      ]
     },
     "metadata": {},
     "output_type": "display_data"
    },
    {
     "ename": "NoSuchElementException",
     "evalue": "Message: no such element: Unable to locate element: {\"method\":\"css selector\",\"selector\":\"[id=\"competitionInformationForDisplay\"]\"}\n  (Session info: chrome=134.0.6998.89); For documentation on this error, please visit: https://www.selenium.dev/documentation/webdriver/troubleshooting/errors#no-such-element-exception\nStacktrace:\n\tGetHandleVerifier [0x00007FF78545FE45+26629]\n\t(No symbol) [0x00007FF7853C6010]\n\t(No symbol) [0x00007FF78525931A]\n\t(No symbol) [0x00007FF7852AF8E7]\n\t(No symbol) [0x00007FF7852AFB1C]\n\t(No symbol) [0x00007FF7853034A7]\n\t(No symbol) [0x00007FF7852D7AEF]\n\t(No symbol) [0x00007FF785300169]\n\t(No symbol) [0x00007FF7852D7883]\n\t(No symbol) [0x00007FF7852A0550]\n\t(No symbol) [0x00007FF7852A1803]\n\tGetHandleVerifier [0x00007FF7857B72BD+3529853]\n\tGetHandleVerifier [0x00007FF7857CDA22+3621858]\n\tGetHandleVerifier [0x00007FF7857C24D3+3575443]\n\tGetHandleVerifier [0x00007FF78552B77A+860474]\n\t(No symbol) [0x00007FF7853D088F]\n\t(No symbol) [0x00007FF7853CCBC4]\n\t(No symbol) [0x00007FF7853CCD66]\n\t(No symbol) [0x00007FF7853BC2C9]\n\tBaseThreadInitThunk [0x00007FFF4213E8D7+23]\n\tRtlUserThreadStart [0x00007FFF432FBF6C+44]\n",
     "output_type": "error",
     "traceback": [
      "\u001b[1;31m---------------------------------------------------------------------------\u001b[0m",
      "\u001b[1;31mNoSuchElementException\u001b[0m                    Traceback (most recent call last)",
      "Input \u001b[1;32mIn [4]\u001b[0m, in \u001b[0;36mprocess_row\u001b[1;34m(row, driver)\u001b[0m\n\u001b[0;32m     19\u001b[0m \u001b[38;5;28;01mtry\u001b[39;00m:\n\u001b[1;32m---> 20\u001b[0m     extent \u001b[38;5;241m=\u001b[39m \u001b[43mdriver\u001b[49m\u001b[38;5;241;43m.\u001b[39;49m\u001b[43mfind_element\u001b[49m\u001b[43m(\u001b[49m\u001b[43mBy\u001b[49m\u001b[38;5;241;43m.\u001b[39;49m\u001b[43mCSS_SELECTOR\u001b[49m\u001b[43m,\u001b[49m\u001b[43m \u001b[49m\u001b[38;5;124;43m\"\u001b[39;49m\u001b[38;5;124;43m#extentCompeted option:checked\u001b[39;49m\u001b[38;5;124;43m\"\u001b[39;49m\u001b[43m)\u001b[49m\u001b[38;5;241m.\u001b[39mtext\n\u001b[0;32m     21\u001b[0m \u001b[38;5;28;01mexcept\u001b[39;00m:\n",
      "File \u001b[1;32m~\\anaconda3\\lib\\site-packages\\selenium\\webdriver\\remote\\webdriver.py:738\u001b[0m, in \u001b[0;36mWebDriver.find_element\u001b[1;34m(self, by, value)\u001b[0m\n\u001b[0;32m    736\u001b[0m     value \u001b[38;5;241m=\u001b[39m \u001b[38;5;124mf\u001b[39m\u001b[38;5;124m'\u001b[39m\u001b[38;5;124m[name=\u001b[39m\u001b[38;5;124m\"\u001b[39m\u001b[38;5;132;01m{\u001b[39;00mvalue\u001b[38;5;132;01m}\u001b[39;00m\u001b[38;5;124m\"\u001b[39m\u001b[38;5;124m]\u001b[39m\u001b[38;5;124m'\u001b[39m\n\u001b[1;32m--> 738\u001b[0m \u001b[38;5;28;01mreturn\u001b[39;00m \u001b[38;5;28;43mself\u001b[39;49m\u001b[38;5;241;43m.\u001b[39;49m\u001b[43mexecute\u001b[49m\u001b[43m(\u001b[49m\u001b[43mCommand\u001b[49m\u001b[38;5;241;43m.\u001b[39;49m\u001b[43mFIND_ELEMENT\u001b[49m\u001b[43m,\u001b[49m\u001b[43m \u001b[49m\u001b[43m{\u001b[49m\u001b[38;5;124;43m\"\u001b[39;49m\u001b[38;5;124;43musing\u001b[39;49m\u001b[38;5;124;43m\"\u001b[39;49m\u001b[43m:\u001b[49m\u001b[43m \u001b[49m\u001b[43mby\u001b[49m\u001b[43m,\u001b[49m\u001b[43m \u001b[49m\u001b[38;5;124;43m\"\u001b[39;49m\u001b[38;5;124;43mvalue\u001b[39;49m\u001b[38;5;124;43m\"\u001b[39;49m\u001b[43m:\u001b[49m\u001b[43m \u001b[49m\u001b[43mvalue\u001b[49m\u001b[43m}\u001b[49m\u001b[43m)\u001b[49m[\u001b[38;5;124m\"\u001b[39m\u001b[38;5;124mvalue\u001b[39m\u001b[38;5;124m\"\u001b[39m]\n",
      "File \u001b[1;32m~\\anaconda3\\lib\\site-packages\\selenium\\webdriver\\remote\\webdriver.py:344\u001b[0m, in \u001b[0;36mWebDriver.execute\u001b[1;34m(self, driver_command, params)\u001b[0m\n\u001b[0;32m    343\u001b[0m \u001b[38;5;28;01mif\u001b[39;00m response:\n\u001b[1;32m--> 344\u001b[0m     \u001b[38;5;28;43mself\u001b[39;49m\u001b[38;5;241;43m.\u001b[39;49m\u001b[43merror_handler\u001b[49m\u001b[38;5;241;43m.\u001b[39;49m\u001b[43mcheck_response\u001b[49m\u001b[43m(\u001b[49m\u001b[43mresponse\u001b[49m\u001b[43m)\u001b[49m\n\u001b[0;32m    345\u001b[0m     response[\u001b[38;5;124m\"\u001b[39m\u001b[38;5;124mvalue\u001b[39m\u001b[38;5;124m\"\u001b[39m] \u001b[38;5;241m=\u001b[39m \u001b[38;5;28mself\u001b[39m\u001b[38;5;241m.\u001b[39m_unwrap_value(response\u001b[38;5;241m.\u001b[39mget(\u001b[38;5;124m\"\u001b[39m\u001b[38;5;124mvalue\u001b[39m\u001b[38;5;124m\"\u001b[39m, \u001b[38;5;28;01mNone\u001b[39;00m))\n",
      "File \u001b[1;32m~\\anaconda3\\lib\\site-packages\\selenium\\webdriver\\remote\\errorhandler.py:229\u001b[0m, in \u001b[0;36mErrorHandler.check_response\u001b[1;34m(self, response)\u001b[0m\n\u001b[0;32m    228\u001b[0m     \u001b[38;5;28;01mraise\u001b[39;00m exception_class(message, screen, stacktrace, alert_text)  \u001b[38;5;66;03m# type: ignore[call-arg]  # mypy is not smart enough here\u001b[39;00m\n\u001b[1;32m--> 229\u001b[0m \u001b[38;5;28;01mraise\u001b[39;00m exception_class(message, screen, stacktrace)\n",
      "\u001b[1;31mNoSuchElementException\u001b[0m: Message: no such element: Unable to locate element: {\"method\":\"css selector\",\"selector\":\"#extentCompeted option:checked\"}\n  (Session info: chrome=134.0.6998.89); For documentation on this error, please visit: https://www.selenium.dev/documentation/webdriver/troubleshooting/errors#no-such-element-exception\nStacktrace:\n\tGetHandleVerifier [0x00007FF78545FE45+26629]\n\t(No symbol) [0x00007FF7853C6010]\n\t(No symbol) [0x00007FF78525931A]\n\t(No symbol) [0x00007FF7852AF8E7]\n\t(No symbol) [0x00007FF7852AFB1C]\n\t(No symbol) [0x00007FF7853034A7]\n\t(No symbol) [0x00007FF7852D7AEF]\n\t(No symbol) [0x00007FF785300169]\n\t(No symbol) [0x00007FF7852D7883]\n\t(No symbol) [0x00007FF7852A0550]\n\t(No symbol) [0x00007FF7852A1803]\n\tGetHandleVerifier [0x00007FF7857B72BD+3529853]\n\tGetHandleVerifier [0x00007FF7857CDA22+3621858]\n\tGetHandleVerifier [0x00007FF7857C24D3+3575443]\n\tGetHandleVerifier [0x00007FF78552B77A+860474]\n\t(No symbol) [0x00007FF7853D088F]\n\t(No symbol) [0x00007FF7853CCBC4]\n\t(No symbol) [0x00007FF7853CCD66]\n\t(No symbol) [0x00007FF7853BC2C9]\n\tBaseThreadInitThunk [0x00007FFF4213E8D7+23]\n\tRtlUserThreadStart [0x00007FFF432FBF6C+44]\n",
      "\nDuring handling of the above exception, another exception occurred:\n",
      "\u001b[1;31mNoSuchElementException\u001b[0m                    Traceback (most recent call last)",
      "Input \u001b[1;32mIn [4]\u001b[0m, in \u001b[0;36m<cell line: 49>\u001b[1;34m()\u001b[0m\n\u001b[0;32m     50\u001b[0m futures \u001b[38;5;241m=\u001b[39m [executor\u001b[38;5;241m.\u001b[39msubmit(process_chunk, chunk, i) \u001b[38;5;28;01mfor\u001b[39;00m i, chunk \u001b[38;5;129;01min\u001b[39;00m \u001b[38;5;28menumerate\u001b[39m(chunks)]\n\u001b[0;32m     51\u001b[0m \u001b[38;5;28;01mfor\u001b[39;00m future \u001b[38;5;129;01min\u001b[39;00m tqdm(as_completed(futures), total\u001b[38;5;241m=\u001b[39m\u001b[38;5;28mlen\u001b[39m(futures), desc\u001b[38;5;241m=\u001b[39m\u001b[38;5;124m\"\u001b[39m\u001b[38;5;124mOverall Progress\u001b[39m\u001b[38;5;124m\"\u001b[39m):\n\u001b[1;32m---> 52\u001b[0m     chunk_comp_type, chunk_bids \u001b[38;5;241m=\u001b[39m \u001b[43mfuture\u001b[49m\u001b[38;5;241;43m.\u001b[39;49m\u001b[43mresult\u001b[49m\u001b[43m(\u001b[49m\u001b[43m)\u001b[49m\n\u001b[0;32m     53\u001b[0m     comp_type\u001b[38;5;241m.\u001b[39mextend(chunk_comp_type)\n\u001b[0;32m     54\u001b[0m     bids\u001b[38;5;241m.\u001b[39mextend(chunk_bids)\n",
      "File \u001b[1;32m~\\anaconda3\\lib\\concurrent\\futures\\_base.py:439\u001b[0m, in \u001b[0;36mFuture.result\u001b[1;34m(self, timeout)\u001b[0m\n\u001b[0;32m    437\u001b[0m     \u001b[38;5;28;01mraise\u001b[39;00m CancelledError()\n\u001b[0;32m    438\u001b[0m \u001b[38;5;28;01melif\u001b[39;00m \u001b[38;5;28mself\u001b[39m\u001b[38;5;241m.\u001b[39m_state \u001b[38;5;241m==\u001b[39m FINISHED:\n\u001b[1;32m--> 439\u001b[0m     \u001b[38;5;28;01mreturn\u001b[39;00m \u001b[38;5;28;43mself\u001b[39;49m\u001b[38;5;241;43m.\u001b[39;49m\u001b[43m__get_result\u001b[49m\u001b[43m(\u001b[49m\u001b[43m)\u001b[49m\n\u001b[0;32m    441\u001b[0m \u001b[38;5;28mself\u001b[39m\u001b[38;5;241m.\u001b[39m_condition\u001b[38;5;241m.\u001b[39mwait(timeout)\n\u001b[0;32m    443\u001b[0m \u001b[38;5;28;01mif\u001b[39;00m \u001b[38;5;28mself\u001b[39m\u001b[38;5;241m.\u001b[39m_state \u001b[38;5;129;01min\u001b[39;00m [CANCELLED, CANCELLED_AND_NOTIFIED]:\n",
      "File \u001b[1;32m~\\anaconda3\\lib\\concurrent\\futures\\_base.py:391\u001b[0m, in \u001b[0;36mFuture.__get_result\u001b[1;34m(self)\u001b[0m\n\u001b[0;32m    389\u001b[0m \u001b[38;5;28;01mif\u001b[39;00m \u001b[38;5;28mself\u001b[39m\u001b[38;5;241m.\u001b[39m_exception:\n\u001b[0;32m    390\u001b[0m     \u001b[38;5;28;01mtry\u001b[39;00m:\n\u001b[1;32m--> 391\u001b[0m         \u001b[38;5;28;01mraise\u001b[39;00m \u001b[38;5;28mself\u001b[39m\u001b[38;5;241m.\u001b[39m_exception\n\u001b[0;32m    392\u001b[0m     \u001b[38;5;28;01mfinally\u001b[39;00m:\n\u001b[0;32m    393\u001b[0m         \u001b[38;5;66;03m# Break a reference cycle with the exception in self._exception\u001b[39;00m\n\u001b[0;32m    394\u001b[0m         \u001b[38;5;28mself\u001b[39m \u001b[38;5;241m=\u001b[39m \u001b[38;5;28;01mNone\u001b[39;00m\n",
      "File \u001b[1;32m~\\anaconda3\\lib\\concurrent\\futures\\thread.py:58\u001b[0m, in \u001b[0;36m_WorkItem.run\u001b[1;34m(self)\u001b[0m\n\u001b[0;32m     55\u001b[0m     \u001b[38;5;28;01mreturn\u001b[39;00m\n\u001b[0;32m     57\u001b[0m \u001b[38;5;28;01mtry\u001b[39;00m:\n\u001b[1;32m---> 58\u001b[0m     result \u001b[38;5;241m=\u001b[39m \u001b[38;5;28mself\u001b[39m\u001b[38;5;241m.\u001b[39mfn(\u001b[38;5;241m*\u001b[39m\u001b[38;5;28mself\u001b[39m\u001b[38;5;241m.\u001b[39margs, \u001b[38;5;241m*\u001b[39m\u001b[38;5;241m*\u001b[39m\u001b[38;5;28mself\u001b[39m\u001b[38;5;241m.\u001b[39mkwargs)\n\u001b[0;32m     59\u001b[0m \u001b[38;5;28;01mexcept\u001b[39;00m \u001b[38;5;167;01mBaseException\u001b[39;00m \u001b[38;5;28;01mas\u001b[39;00m exc:\n\u001b[0;32m     60\u001b[0m     \u001b[38;5;28mself\u001b[39m\u001b[38;5;241m.\u001b[39mfuture\u001b[38;5;241m.\u001b[39mset_exception(exc)\n",
      "Input \u001b[1;32mIn [4]\u001b[0m, in \u001b[0;36mprocess_chunk\u001b[1;34m(chunk, chunk_id)\u001b[0m\n\u001b[0;32m     30\u001b[0m bids \u001b[38;5;241m=\u001b[39m []\n\u001b[0;32m     31\u001b[0m \u001b[38;5;28;01mfor\u001b[39;00m row \u001b[38;5;129;01min\u001b[39;00m tqdm(chunk, desc\u001b[38;5;241m=\u001b[39m\u001b[38;5;124mf\u001b[39m\u001b[38;5;124m\"\u001b[39m\u001b[38;5;124mThread \u001b[39m\u001b[38;5;132;01m{\u001b[39;00mchunk_id\u001b[38;5;132;01m}\u001b[39;00m\u001b[38;5;124m\"\u001b[39m, position\u001b[38;5;241m=\u001b[39mchunk_id):\n\u001b[1;32m---> 32\u001b[0m     extent, bid_num \u001b[38;5;241m=\u001b[39m \u001b[43mprocess_row\u001b[49m\u001b[43m(\u001b[49m\u001b[43mrow\u001b[49m\u001b[43m,\u001b[49m\u001b[43m \u001b[49m\u001b[43mdriver\u001b[49m\u001b[43m)\u001b[49m\n\u001b[0;32m     33\u001b[0m     comp_type\u001b[38;5;241m.\u001b[39mappend(extent)\n\u001b[0;32m     34\u001b[0m     bids\u001b[38;5;241m.\u001b[39mappend(bid_num)\n",
      "Input \u001b[1;32mIn [4]\u001b[0m, in \u001b[0;36mprocess_row\u001b[1;34m(row, driver)\u001b[0m\n\u001b[0;32m     20\u001b[0m     extent \u001b[38;5;241m=\u001b[39m driver\u001b[38;5;241m.\u001b[39mfind_element(By\u001b[38;5;241m.\u001b[39mCSS_SELECTOR, \u001b[38;5;124m\"\u001b[39m\u001b[38;5;124m#extentCompeted option:checked\u001b[39m\u001b[38;5;124m\"\u001b[39m)\u001b[38;5;241m.\u001b[39mtext\n\u001b[0;32m     21\u001b[0m \u001b[38;5;28;01mexcept\u001b[39;00m:\n\u001b[1;32m---> 22\u001b[0m     extent \u001b[38;5;241m=\u001b[39m \u001b[43mdriver\u001b[49m\u001b[38;5;241;43m.\u001b[39;49m\u001b[43mfind_element\u001b[49m\u001b[43m(\u001b[49m\u001b[43mBy\u001b[49m\u001b[38;5;241;43m.\u001b[39;49m\u001b[43mID\u001b[49m\u001b[43m,\u001b[49m\u001b[43m \u001b[49m\u001b[38;5;124;43m\"\u001b[39;49m\u001b[38;5;124;43mcompetitionInformationForDisplay\u001b[39;49m\u001b[38;5;124;43m\"\u001b[39;49m\u001b[43m)\u001b[49m\u001b[38;5;241m.\u001b[39mget_attribute(\u001b[38;5;124m\"\u001b[39m\u001b[38;5;124mvalue\u001b[39m\u001b[38;5;124m\"\u001b[39m)\n\u001b[0;32m     23\u001b[0m bid_num \u001b[38;5;241m=\u001b[39m driver\u001b[38;5;241m.\u001b[39mfind_element(By\u001b[38;5;241m.\u001b[39mID, \u001b[38;5;124m\"\u001b[39m\u001b[38;5;124mnumberOfOffersReceived\u001b[39m\u001b[38;5;124m\"\u001b[39m)\u001b[38;5;241m.\u001b[39mget_attribute(\u001b[38;5;124m\"\u001b[39m\u001b[38;5;124mvalue\u001b[39m\u001b[38;5;124m\"\u001b[39m)\n\u001b[0;32m     24\u001b[0m \u001b[38;5;28;01mreturn\u001b[39;00m \u001b[38;5;124m'\u001b[39m\u001b[38;5;124mOpen\u001b[39m\u001b[38;5;124m'\u001b[39m \u001b[38;5;28;01mif\u001b[39;00m extent \u001b[38;5;129;01mnot\u001b[39;00m \u001b[38;5;129;01min\u001b[39;00m special_comp_params \u001b[38;5;28;01melse\u001b[39;00m \u001b[38;5;124m'\u001b[39m\u001b[38;5;124mRestricted\u001b[39m\u001b[38;5;124m'\u001b[39m, bid_num\n",
      "File \u001b[1;32m~\\anaconda3\\lib\\site-packages\\selenium\\webdriver\\remote\\webdriver.py:738\u001b[0m, in \u001b[0;36mWebDriver.find_element\u001b[1;34m(self, by, value)\u001b[0m\n\u001b[0;32m    735\u001b[0m     by \u001b[38;5;241m=\u001b[39m By\u001b[38;5;241m.\u001b[39mCSS_SELECTOR\n\u001b[0;32m    736\u001b[0m     value \u001b[38;5;241m=\u001b[39m \u001b[38;5;124mf\u001b[39m\u001b[38;5;124m'\u001b[39m\u001b[38;5;124m[name=\u001b[39m\u001b[38;5;124m\"\u001b[39m\u001b[38;5;132;01m{\u001b[39;00mvalue\u001b[38;5;132;01m}\u001b[39;00m\u001b[38;5;124m\"\u001b[39m\u001b[38;5;124m]\u001b[39m\u001b[38;5;124m'\u001b[39m\n\u001b[1;32m--> 738\u001b[0m \u001b[38;5;28;01mreturn\u001b[39;00m \u001b[38;5;28;43mself\u001b[39;49m\u001b[38;5;241;43m.\u001b[39;49m\u001b[43mexecute\u001b[49m\u001b[43m(\u001b[49m\u001b[43mCommand\u001b[49m\u001b[38;5;241;43m.\u001b[39;49m\u001b[43mFIND_ELEMENT\u001b[49m\u001b[43m,\u001b[49m\u001b[43m \u001b[49m\u001b[43m{\u001b[49m\u001b[38;5;124;43m\"\u001b[39;49m\u001b[38;5;124;43musing\u001b[39;49m\u001b[38;5;124;43m\"\u001b[39;49m\u001b[43m:\u001b[49m\u001b[43m \u001b[49m\u001b[43mby\u001b[49m\u001b[43m,\u001b[49m\u001b[43m \u001b[49m\u001b[38;5;124;43m\"\u001b[39;49m\u001b[38;5;124;43mvalue\u001b[39;49m\u001b[38;5;124;43m\"\u001b[39;49m\u001b[43m:\u001b[49m\u001b[43m \u001b[49m\u001b[43mvalue\u001b[49m\u001b[43m}\u001b[49m\u001b[43m)\u001b[49m[\u001b[38;5;124m\"\u001b[39m\u001b[38;5;124mvalue\u001b[39m\u001b[38;5;124m\"\u001b[39m]\n",
      "File \u001b[1;32m~\\anaconda3\\lib\\site-packages\\selenium\\webdriver\\remote\\webdriver.py:344\u001b[0m, in \u001b[0;36mWebDriver.execute\u001b[1;34m(self, driver_command, params)\u001b[0m\n\u001b[0;32m    342\u001b[0m response \u001b[38;5;241m=\u001b[39m \u001b[38;5;28mself\u001b[39m\u001b[38;5;241m.\u001b[39mcommand_executor\u001b[38;5;241m.\u001b[39mexecute(driver_command, params)\n\u001b[0;32m    343\u001b[0m \u001b[38;5;28;01mif\u001b[39;00m response:\n\u001b[1;32m--> 344\u001b[0m     \u001b[38;5;28;43mself\u001b[39;49m\u001b[38;5;241;43m.\u001b[39;49m\u001b[43merror_handler\u001b[49m\u001b[38;5;241;43m.\u001b[39;49m\u001b[43mcheck_response\u001b[49m\u001b[43m(\u001b[49m\u001b[43mresponse\u001b[49m\u001b[43m)\u001b[49m\n\u001b[0;32m    345\u001b[0m     response[\u001b[38;5;124m\"\u001b[39m\u001b[38;5;124mvalue\u001b[39m\u001b[38;5;124m\"\u001b[39m] \u001b[38;5;241m=\u001b[39m \u001b[38;5;28mself\u001b[39m\u001b[38;5;241m.\u001b[39m_unwrap_value(response\u001b[38;5;241m.\u001b[39mget(\u001b[38;5;124m\"\u001b[39m\u001b[38;5;124mvalue\u001b[39m\u001b[38;5;124m\"\u001b[39m, \u001b[38;5;28;01mNone\u001b[39;00m))\n\u001b[0;32m    346\u001b[0m     \u001b[38;5;28;01mreturn\u001b[39;00m response\n",
      "File \u001b[1;32m~\\anaconda3\\lib\\site-packages\\selenium\\webdriver\\remote\\errorhandler.py:229\u001b[0m, in \u001b[0;36mErrorHandler.check_response\u001b[1;34m(self, response)\u001b[0m\n\u001b[0;32m    227\u001b[0m         alert_text \u001b[38;5;241m=\u001b[39m value[\u001b[38;5;124m\"\u001b[39m\u001b[38;5;124malert\u001b[39m\u001b[38;5;124m\"\u001b[39m]\u001b[38;5;241m.\u001b[39mget(\u001b[38;5;124m\"\u001b[39m\u001b[38;5;124mtext\u001b[39m\u001b[38;5;124m\"\u001b[39m)\n\u001b[0;32m    228\u001b[0m     \u001b[38;5;28;01mraise\u001b[39;00m exception_class(message, screen, stacktrace, alert_text)  \u001b[38;5;66;03m# type: ignore[call-arg]  # mypy is not smart enough here\u001b[39;00m\n\u001b[1;32m--> 229\u001b[0m \u001b[38;5;28;01mraise\u001b[39;00m exception_class(message, screen, stacktrace)\n",
      "\u001b[1;31mNoSuchElementException\u001b[0m: Message: no such element: Unable to locate element: {\"method\":\"css selector\",\"selector\":\"[id=\"competitionInformationForDisplay\"]\"}\n  (Session info: chrome=134.0.6998.89); For documentation on this error, please visit: https://www.selenium.dev/documentation/webdriver/troubleshooting/errors#no-such-element-exception\nStacktrace:\n\tGetHandleVerifier [0x00007FF78545FE45+26629]\n\t(No symbol) [0x00007FF7853C6010]\n\t(No symbol) [0x00007FF78525931A]\n\t(No symbol) [0x00007FF7852AF8E7]\n\t(No symbol) [0x00007FF7852AFB1C]\n\t(No symbol) [0x00007FF7853034A7]\n\t(No symbol) [0x00007FF7852D7AEF]\n\t(No symbol) [0x00007FF785300169]\n\t(No symbol) [0x00007FF7852D7883]\n\t(No symbol) [0x00007FF7852A0550]\n\t(No symbol) [0x00007FF7852A1803]\n\tGetHandleVerifier [0x00007FF7857B72BD+3529853]\n\tGetHandleVerifier [0x00007FF7857CDA22+3621858]\n\tGetHandleVerifier [0x00007FF7857C24D3+3575443]\n\tGetHandleVerifier [0x00007FF78552B77A+860474]\n\t(No symbol) [0x00007FF7853D088F]\n\t(No symbol) [0x00007FF7853CCBC4]\n\t(No symbol) [0x00007FF7853CCD66]\n\t(No symbol) [0x00007FF7853BC2C9]\n\tBaseThreadInitThunk [0x00007FFF4213E8D7+23]\n\tRtlUserThreadStart [0x00007FFF432FBF6C+44]\n"
     ]
    }
   ],
   "source": [
    "import polars as pl\n",
    "from tqdm.notebook import tqdm\n",
    "from selenium import webdriver\n",
    "from selenium.webdriver.common.by import By\n",
    "from concurrent.futures import ThreadPoolExecutor, as_completed\n",
    "\n",
    "# Initialize the drive\n",
    "\n",
    "# Define the ranges and data\n",
    "ranges = (0, 52962)\n",
    "\n",
    "# Function to process a single row\n",
    "def process_row(row,driver):\n",
    "    contract_id = row[0]\n",
    "    agency_id = row[3]\n",
    "    agency_id = agency_id if agency_id != '2100' else '9700'\n",
    "    URL = f'https://www.fpds.gov/ezsearch/jsp/viewLinkController.jsp?agencyID={agency_id}&PIID={contract_id}&modNumber=0&transactionNumber=0&idvAgencyID=&idvPIID=&actionSource=searchScreen&actionCode=&documentVersion=1.0&contractType=AWARD&docType=D'\n",
    "    driver.get(URL)\n",
    "    try:\n",
    "        extent = driver.find_element(By.CSS_SELECTOR, \"#extentCompeted option:checked\").text\n",
    "    except:\n",
    "        extent = driver.find_element(By.ID, \"competitionInformationForDisplay\").get_attribute(\"value\")\n",
    "    bid_num = driver.find_element(By.ID, \"numberOfOffersReceived\").get_attribute(\"value\")\n",
    "    return 'Open' if extent not in special_comp_params else 'Restricted', bid_num\n",
    "\n",
    "# Function to process a chunk of rows\n",
    "def process_chunk(chunk, chunk_id):\n",
    "    driver = driversetup()\n",
    "    comp_type = []\n",
    "    bids = []\n",
    "    for row in tqdm(chunk, desc=f\"Thread {chunk_id}\", position=chunk_id):\n",
    "        extent, bid_num = process_row(row, driver)\n",
    "        comp_type.append(extent)\n",
    "        bids.append(bid_num)\n",
    "    return comp_type, bids\n",
    "\n",
    "# Split the data into chunks for multithreading\n",
    "num_threads = 10\n",
    "chunk_size = len(df) // num_threads\n",
    "chunks = [df[i * chunk_size : (i + 1) * chunk_size] for i in range(num_threads)]\n",
    "\n",
    "# Ensure the last chunk captures the remaining data\n",
    "if len(df) % num_threads != 0:\n",
    "    chunks[-1] = df[(num_threads - 1) * chunk_size :]\n",
    "\n",
    "# Use ThreadPoolExecutor to process chunks in parallel\n",
    "comp_type = []\n",
    "bids = []\n",
    "with ThreadPoolExecutor(max_workers=num_threads) as executor:\n",
    "    futures = [executor.submit(process_chunk, chunk, i) for i, chunk in enumerate(chunks)]\n",
    "    for future in tqdm(as_completed(futures), total=len(futures), desc=\"Overall Progress\"):\n",
    "        chunk_comp_type, chunk_bids = future.result()\n",
    "        comp_type.extend(chunk_comp_type)\n",
    "        bids.extend(chunk_bids)\n",
    "\n",
    "# # Combine results\n",
    "# df_result = pl.DataFrame({\n",
    "#     \"Competition Type\": comp_type,\n",
    "#     \"Bids\": bids\n",
    "# })\n",
    "\n",
    "# # Display the result\n",
    "# print(df_result)"
   ]
  },
  {
   "cell_type": "code",
   "execution_count": 11,
   "id": "5e9878c5",
   "metadata": {
    "scrolled": true
   },
   "outputs": [
    {
     "name": "stderr",
     "output_type": "stream",
     "text": [
      "Processing rows: 100%|█████████████████████████████████████████████████████████████████| 53/53 [11:19<00:00, 12.82s/it]\n"
     ]
    }
   ],
   "source": [
    "import concurrent.futures\n",
    "from tqdm import tqdm\n",
    "from selenium.webdriver.common.by import By\n",
    "import polars as pl\n",
    "\n",
    "# Helper function to process a row\n",
    "def process_row(row, driver):\n",
    "    contract_id = row[0]\n",
    "    agency_id = row[3]\n",
    "    agency_id = agency_id if agency_id != '2100' else '9700'\n",
    "    URL = f'https://www.fpds.gov/ezsearch/jsp/viewLinkController.jsp?agencyID={agency_id}&PIID={contract_id}&modNumber=0&transactionNumber=0&idvAgencyID=&idvPIID=&actionSource=searchScreen&actionCode=&documentVersion=1.0&contractType=AWARD&docType=D'\n",
    "    driver.get(URL)\n",
    "    try:\n",
    "        extent = driver.find_element(By.CSS_SELECTOR, \"#extentCompeted option:checked\").text\n",
    "    except:\n",
    "        try:\n",
    "            extent = driver.find_element(By.ID, \"competitionInformationForDisplay\").get_attribute(\"value\")\n",
    "        except:\n",
    "            extent = 'Error'\n",
    "    bid_num = driver.find_element(By.ID, \"numberOfOffersReceived\").get_attribute(\"value\")\n",
    "    return 'Open' if extent not in special_comp_params else 'Restricted', bid_num\n",
    "\n",
    "# Function to process a chunk of rows\n",
    "def process_rows(chunk, driver):\n",
    "    comp_type = []\n",
    "    bids = []\n",
    "    for row in chunk:\n",
    "        extent, bid_num = process_row(row, driver)\n",
    "        comp_type.append(extent)\n",
    "        bids.append(bid_num)\n",
    "    return comp_type, bids\n",
    "\n",
    "# Main function to setup concurrent processing\n",
    "def concurrent_process(df, ranges, num_workers=8):\n",
    "    comp_type = []\n",
    "    bids = []\n",
    "\n",
    "    # Create a pool of drivers\n",
    "    drivers = [driversetup() for _ in range(num_workers)]\n",
    "\n",
    "    # Create threads\n",
    "    with concurrent.futures.ThreadPoolExecutor(max_workers=num_workers) as executor:\n",
    "        futures = []\n",
    "        \n",
    "        chunk_size = 1000 \n",
    "        for i in range(ranges[0], ranges[1], chunk_size):\n",
    "            chunk = df[i:i+chunk_size]\n",
    "            driver = drivers[i % num_workers]  # Assign a driver from the pool\n",
    "            futures.append(executor.submit(process_rows, chunk, driver))\n",
    "        \n",
    "        # Gather results\n",
    "        for future in tqdm(concurrent.futures.as_completed(futures), total=len(futures), desc=\"Processing rows\"):\n",
    "            chunk_comp_type, chunk_bids = future.result()\n",
    "            comp_type.extend(chunk_comp_type)\n",
    "            bids.extend(chunk_bids)\n",
    "    \n",
    "    # Close all drivers\n",
    "    for driver in drivers:\n",
    "        driver.quit()\n",
    "    \n",
    "    return comp_type, bids\n",
    "\n",
    "# Example usage\n",
    "ranges = (0, 52996)  # Now working with the larger range\n",
    "comp_type, bids = concurrent_process(df, ranges)"
   ]
  },
  {
   "cell_type": "code",
   "execution_count": 11,
   "id": "19b76453",
   "metadata": {
    "scrolled": true
   },
   "outputs": [
    {
     "name": "stderr",
     "output_type": "stream",
     "text": [
      "Processing rows: 100%|█████████████████████████████████████████████████████████████████| 53/53 [11:19<00:00, 12.82s/it]\n"
     ]
    }
   ],
   "source": [
    "import concurrent.futures\n",
    "from tqdm import tqdm\n",
    "from selenium.webdriver.common.by import By\n",
    "import polars as pl\n",
    "\n",
    "# Helper function to process a row\n",
    "def process_row(row, driver):\n",
    "    contract_id = row[0]\n",
    "    agency_id = row[3]\n",
    "    agency_id = agency_id if agency_id != '2100' else '9700'\n",
    "    URL = f'https://www.fpds.gov/ezsearch/jsp/viewLinkController.jsp?agencyID={agency_id}&PIID={contract_id}&modNumber=0&transactionNumber=0&idvAgencyID=&idvPIID=&actionSource=searchScreen&actionCode=&documentVersion=1.0&contractType=AWARD&docType=D'\n",
    "    driver.get(URL)\n",
    "    try:\n",
    "        extent = driver.find_element(By.CSS_SELECTOR, \"#extentCompeted option:checked\").text\n",
    "    except:\n",
    "        try:\n",
    "            extent = driver.find_element(By.ID, \"competitionInformationForDisplay\").get_attribute(\"value\")\n",
    "        except:\n",
    "            extent = 'Error'\n",
    "    bid_num = driver.find_element(By.ID, \"numberOfOffersReceived\").get_attribute(\"value\")\n",
    "    return 'Open' if extent not in special_comp_params else 'Restricted', bid_num\n",
    "\n",
    "# Function to process a chunk of rows\n",
    "def process_rows(chunk, driver):\n",
    "    comp_type = []\n",
    "    bids = []\n",
    "    for row in chunk:\n",
    "        extent, bid_num = process_row(row, driver)\n",
    "        comp_type.append(extent)\n",
    "        bids.append(bid_num)\n",
    "    return comp_type, bids\n",
    "\n",
    "# Main function to setup concurrent processing\n",
    "def concurrent_process(df, ranges, num_workers=8):\n",
    "    comp_type = []\n",
    "    bids = []\n",
    "\n",
    "    # Create a pool of drivers\n",
    "    drivers = [driversetup() for _ in range(num_workers)]\n",
    "\n",
    "    # Create threads\n",
    "    with concurrent.futures.ThreadPoolExecutor(max_workers=num_workers) as executor:\n",
    "        futures = []\n",
    "        \n",
    "        chunk_size = 1000 \n",
    "        for i in range(ranges[0], ranges[1], chunk_size):\n",
    "            chunk = df[i:i+chunk_size]\n",
    "            driver = drivers[i % num_workers]  # Assign a driver from the pool\n",
    "            futures.append(executor.submit(process_rows, chunk, driver))\n",
    "        \n",
    "        # Gather results\n",
    "        for future in tqdm(concurrent.futures.as_completed(futures), total=len(futures), desc=\"Processing rows\"):\n",
    "            chunk_comp_type, chunk_bids = future.result()\n",
    "            comp_type.extend(chunk_comp_type)\n",
    "            bids.extend(chunk_bids)\n",
    "    \n",
    "    # Close all drivers\n",
    "    for driver in drivers:\n",
    "        driver.quit()\n",
    "    \n",
    "    return comp_type, bids\n",
    "\n",
    "# Example usage\n",
    "ranges = (0, 52996)  # Now working with the larger range\n",
    "comp_type, bids = concurrent_process(df, ranges)"
   ]
  },
  {
   "cell_type": "code",
   "execution_count": 3,
   "id": "abdcf047",
   "metadata": {},
   "outputs": [
    {
     "data": {
      "text/plain": [
       "[shape: (5_296, 10)\n",
       " ┌────────────────┬────────┬─────────────┬────────────────┬───┬────────────────┬────────────┬───────────────┬───────────┐\n",
       " │ Contract ID    ┆ NAICS  ┆ Date Signed ┆ Contracting    ┆ … ┆ Business       ┆ Action     ┆ Modification  ┆ Total     │\n",
       " │ ---            ┆ ---    ┆ ---         ┆ Agency ID      ┆   ┆ Entity ID      ┆ Obligation ┆ Count         ┆ Modified  │\n",
       " │ str            ┆ i64    ┆ str         ┆ ---            ┆   ┆ ---            ┆ ($)        ┆ ---           ┆ Action    │\n",
       " │                ┆        ┆             ┆ str            ┆   ┆ str            ┆ ---        ┆ i64           ┆ Obligati… │\n",
       " │                ┆        ┆             ┆                ┆   ┆                ┆ i64        ┆               ┆ ---       │\n",
       " │                ┆        ┆             ┆                ┆   ┆                ┆            ┆               ┆ i64       │\n",
       " ╞════════════════╪════════╪═════════════╪════════════════╪═══╪════════════════╪════════════╪═══════════════╪═══════════╡\n",
       " │ GS11P14MAP0340 ┆ 236220 ┆ 2014-10-16  ┆ 4740           ┆ … ┆ RWDWFG6WGRK9   ┆ 644325     ┆ 1             ┆ 28426     │\n",
       " │ IND0407CT66810 ┆ 236220 ┆ 2006-12-21  ┆ 1406           ┆ … ┆ U4K9M66MUHR9   ┆ 68450      ┆ 0             ┆ 0         │\n",
       " │ W912LD06C0036  ┆ 236220 ┆ 2006-09-25  ┆ 2100           ┆ … ┆ EATDZJL6JFJ5   ┆ 12573650   ┆ 15            ┆ 556384    │\n",
       " │ GS11P06ZGC0339 ┆ 236220 ┆ 2006-10-17  ┆ 4740           ┆ … ┆ QKCFMFL4MKT6   ┆ 11943      ┆ 1             ┆ 1504      │\n",
       " │ HHSD2002006189 ┆ 236220 ┆ 2006-08-30  ┆ 7523           ┆ … ┆ TTHNY8N2PQR3   ┆ 192500     ┆ 1             ┆ 38349     │\n",
       " │ 28C            ┆        ┆             ┆                ┆   ┆                ┆            ┆               ┆           │\n",
       " │ …              ┆ …      ┆ …           ┆ …              ┆ … ┆ …              ┆ …          ┆ …             ┆ …         │\n",
       " │ 47PD1023C0002  ┆ 236220 ┆ 2022-11-16  ┆ 4740           ┆ … ┆ N3MYJ5PNYYM7   ┆ 36862      ┆ 3             ┆ 6725      │\n",
       " │ W9123820C0005  ┆ 236220 ┆ 2020-02-28  ┆ 2100           ┆ … ┆ GSGLJBC5LJK8   ┆ 17249182   ┆ 1             ┆ 17249182  │\n",
       " │ W912DR19C0057  ┆ 236220 ┆ 2019-09-30  ┆ 2100           ┆ … ┆ SNJKMKKA9LA1   ┆ 9255000    ┆ 9             ┆ 2604259   │\n",
       " │ W912JV05C0007  ┆ 236220 ┆ 2005-07-28  ┆ 2100           ┆ … ┆ WDHJCQEC4NT9   ┆ 12917      ┆ 1             ┆ 7895      │\n",
       " │ GS04P10EXC0057 ┆ 236220 ┆ 2010-05-13  ┆ 4740           ┆ … ┆ LZQBKXG9JKD3   ┆ 351757     ┆ 4             ┆ 39861     │\n",
       " └────────────────┴────────┴─────────────┴────────────────┴───┴────────────────┴────────────┴───────────────┴───────────┘,\n",
       " shape: (5_296, 10)\n",
       " ┌────────────────┬────────┬─────────────┬────────────────┬───┬────────────────┬────────────┬───────────────┬───────────┐\n",
       " │ Contract ID    ┆ NAICS  ┆ Date Signed ┆ Contracting    ┆ … ┆ Business       ┆ Action     ┆ Modification  ┆ Total     │\n",
       " │ ---            ┆ ---    ┆ ---         ┆ Agency ID      ┆   ┆ Entity ID      ┆ Obligation ┆ Count         ┆ Modified  │\n",
       " │ str            ┆ i64    ┆ str         ┆ ---            ┆   ┆ ---            ┆ ($)        ┆ ---           ┆ Action    │\n",
       " │                ┆        ┆             ┆ str            ┆   ┆ str            ┆ ---        ┆ i64           ┆ Obligati… │\n",
       " │                ┆        ┆             ┆                ┆   ┆                ┆ i64        ┆               ┆ ---       │\n",
       " │                ┆        ┆             ┆                ┆   ┆                ┆            ┆               ┆ i64       │\n",
       " ╞════════════════╪════════╪═════════════╪════════════════╪═══╪════════════════╪════════════╪═══════════════╪═══════════╡\n",
       " │ HQ003417C0015  ┆ 236220 ┆ 2017-02-03  ┆ 97F5           ┆ … ┆ UZ8GYMW2H6G8   ┆ 699500     ┆ 3             ┆ 806400    │\n",
       " │ W912JA06C0003  ┆ 236220 ┆ 2006-09-19  ┆ 2100           ┆ … ┆ XH3KX3HWU953   ┆ 10186500   ┆ 7             ┆ 489064    │\n",
       " │ AG50438450400  ┆ 236220 ┆ 2005-09-30  ┆ 12H2           ┆ … ┆ MTXJF2HF2W83   ┆ 385394     ┆ 0             ┆ 0         │\n",
       " │ GS09P11WHM0055 ┆ 236220 ┆ 2011-09-14  ┆ 4740           ┆ … ┆ C2ASW1JF7HL8   ┆ 97844      ┆ 3             ┆ 21221     │\n",
       " │ N6945010C6828  ┆ 236220 ┆ 2010-02-25  ┆ 1700           ┆ … ┆ KKAHHQDF2ZW7   ┆ 1200000    ┆ 2             ┆ 202331    │\n",
       " │ …              ┆ …      ┆ …           ┆ …              ┆ … ┆ …              ┆ …          ┆ …             ┆ …         │\n",
       " │ W9124C10C0023  ┆ 236220 ┆ 2010-09-29  ┆ 2100           ┆ … ┆ HDKPXS1MK486   ┆ 135000     ┆ 1             ┆ 0         │\n",
       " │ GS11P10ZGP0056 ┆ 236220 ┆ 2010-01-29  ┆ 4740           ┆ … ┆ KLNKM1W4DL54   ┆ 104966     ┆ 3             ┆ 13313     │\n",
       " │ W5J9LE11C0001  ┆ 236220 ┆ 2010-12-04  ┆ 2100           ┆ … ┆ LN9PU5M2YZN5   ┆ 28289150   ┆ 14            ┆ 14793942  │\n",
       " │ GS09P06WKC0002 ┆ 236220 ┆ 2005-11-01  ┆ 4740           ┆ … ┆ GDMZLW53U2W5   ┆ 8975       ┆ 2             ┆ 3500      │\n",
       " │ GS08P12JBP0089 ┆ 236220 ┆ 2012-08-10  ┆ 4740           ┆ … ┆ MZRHH1GHH815   ┆ 9600       ┆ 1             ┆ 0         │\n",
       " └────────────────┴────────┴─────────────┴────────────────┴───┴────────────────┴────────────┴───────────────┴───────────┘,\n",
       " shape: (5_296, 10)\n",
       " ┌────────────────┬────────┬─────────────┬────────────────┬───┬────────────────┬────────────┬───────────────┬───────────┐\n",
       " │ Contract ID    ┆ NAICS  ┆ Date Signed ┆ Contracting    ┆ … ┆ Business       ┆ Action     ┆ Modification  ┆ Total     │\n",
       " │ ---            ┆ ---    ┆ ---         ┆ Agency ID      ┆   ┆ Entity ID      ┆ Obligation ┆ Count         ┆ Modified  │\n",
       " │ str            ┆ i64    ┆ str         ┆ ---            ┆   ┆ ---            ┆ ($)        ┆ ---           ┆ Action    │\n",
       " │                ┆        ┆             ┆ str            ┆   ┆ str            ┆ ---        ┆ i64           ┆ Obligati… │\n",
       " │                ┆        ┆             ┆                ┆   ┆                ┆ i64        ┆               ┆ ---       │\n",
       " │                ┆        ┆             ┆                ┆   ┆                ┆            ┆               ┆ i64       │\n",
       " ╞════════════════╪════════╪═════════════╪════════════════╪═══╪════════════════╪════════════╪═══════════════╪═══════════╡\n",
       " │ GS09P11WKC0026 ┆ 236220 ┆ 2011-09-12  ┆ 4740           ┆ … ┆ LFTHCJVJHBE6   ┆ 3790       ┆ 0             ┆ 0         │\n",
       " │ W90U4210C4019  ┆ 236220 ┆ 2010-01-28  ┆ 2100           ┆ … ┆ LN9PU5M2YZN5   ┆ 9198       ┆ 0             ┆ 0         │\n",
       " │ DAHA2903C0002  ┆ 236220 ┆ 2003-04-04  ┆ 2100           ┆ … ┆ Y1FQJ2GMX6K6   ┆ 54061      ┆ 1             ┆ 3998      │\n",
       " │ AG3K15C110006  ┆ 236220 ┆ 2011-04-28  ┆ 12H2           ┆ … ┆ N1EZT8W66NF6   ┆ 7270735    ┆ 22            ┆ 461854    │\n",
       " │ 19AQMM21C0097  ┆ 236220 ┆ 2021-06-05  ┆ 1900           ┆ … ┆ EGUEUHZLJDE9   ┆ 219918     ┆ 3             ┆ 559955    │\n",
       " │ …              ┆ …      ┆ …           ┆ …              ┆ … ┆ …              ┆ …          ┆ …             ┆ …         │\n",
       " │ N6945007C4590  ┆ 236220 ┆ 2007-09-27  ┆ 1700           ┆ … ┆ K3JTSVMNW6M5   ┆ 150068     ┆ 0             ┆ 0         │\n",
       " │ GS01P11NGC0005 ┆ 236220 ┆ 2011-05-12  ┆ 4740           ┆ … ┆ CLQMC69ABZ17   ┆ 11249      ┆ 1             ┆ 833       │\n",
       " │ W912JB16C8003  ┆ 236220 ┆ 2016-09-24  ┆ 2100           ┆ … ┆ D67VLNCFHRQ7   ┆ 70964      ┆ 1             ┆ 0         │\n",
       " │ W91GY309C0010  ┆ 236220 ┆ 2009-09-24  ┆ 2100           ┆ … ┆ LN9PU5M2YZN5   ┆ 214365     ┆ 0             ┆ 0         │\n",
       " │ W9124M10C0019  ┆ 236220 ┆ 2010-08-27  ┆ 2100           ┆ … ┆ XME5MNTKLLW3   ┆ 988169     ┆ 0             ┆ 0         │\n",
       " └────────────────┴────────┴─────────────┴────────────────┴───┴────────────────┴────────────┴───────────────┴───────────┘,\n",
       " shape: (5_296, 10)\n",
       " ┌────────────────┬────────┬─────────────┬────────────────┬───┬────────────────┬────────────┬───────────────┬───────────┐\n",
       " │ Contract ID    ┆ NAICS  ┆ Date Signed ┆ Contracting    ┆ … ┆ Business       ┆ Action     ┆ Modification  ┆ Total     │\n",
       " │ ---            ┆ ---    ┆ ---         ┆ Agency ID      ┆   ┆ Entity ID      ┆ Obligation ┆ Count         ┆ Modified  │\n",
       " │ str            ┆ i64    ┆ str         ┆ ---            ┆   ┆ ---            ┆ ($)        ┆ ---           ┆ Action    │\n",
       " │                ┆        ┆             ┆ str            ┆   ┆ str            ┆ ---        ┆ i64           ┆ Obligati… │\n",
       " │                ┆        ┆             ┆                ┆   ┆                ┆ i64        ┆               ┆ ---       │\n",
       " │                ┆        ┆             ┆                ┆   ┆                ┆            ┆               ┆ i64       │\n",
       " ╞════════════════╪════════╪═════════════╪════════════════╪═══╪════════════════╪════════════╪═══════════════╪═══════════╡\n",
       " │ GS11P16YTC7124 ┆ 236220 ┆ 2016-02-23  ┆ 4740           ┆ … ┆ K3KWSY8WY8L5   ┆ 53713      ┆ 0             ┆ 0         │\n",
       " │ 140F0122C0066  ┆ 236220 ┆ 2022-06-29  ┆ 1448           ┆ … ┆ NFDNN5632R68   ┆ 50000      ┆ 1             ┆ 133       │\n",
       " │ 140FC223C0003  ┆ 236220 ┆ 2023-08-29  ┆ 1448           ┆ … ┆ DSM7PN1UFAY3   ┆ 8262145    ┆ 12            ┆ 550199    │\n",
       " │ W912JB18C5015  ┆ 236220 ┆ 2018-09-13  ┆ 2100           ┆ … ┆ S5NQJ428JQE8   ┆ 2892894    ┆ 3             ┆ 184224    │\n",
       " │ 140F0220C0029  ┆ 236220 ┆ 2020-08-06  ┆ 1448           ┆ … ┆ EA33CR38MDK6   ┆ 1119907    ┆ 2             ┆ 23962     │\n",
       " │ …              ┆ …      ┆ …           ┆ …              ┆ … ┆ …              ┆ …          ┆ …             ┆ …         │\n",
       " │ FA486115CB031  ┆ 236220 ┆ 2015-09-25  ┆ 5700           ┆ … ┆ KG6LMMTEALU4   ┆ 19244      ┆ 0             ┆ 0         │\n",
       " │ GS09P14WMC0033 ┆ 236220 ┆ 2014-09-25  ┆ 4740           ┆ … ┆ PGTHBQD7LT28   ┆ 9893       ┆ 0             ┆ 0         │\n",
       " │ VA24913C0047   ┆ 236220 ┆ 2013-03-06  ┆ 3600           ┆ … ┆ Y9FRK3A8ZNE7   ┆ 6543       ┆ 0             ┆ 0         │\n",
       " │ W912QR09C0048  ┆ 236220 ┆ 2009-07-15  ┆ 2100           ┆ … ┆ X3BYPXNZN8N1   ┆ 20526793   ┆ 12            ┆ 2260580   │\n",
       " │ AG5114C100033  ┆ 236220 ┆ 2010-05-18  ┆ 12H2           ┆ … ┆ T9RBJANJKDB7   ┆ 38788      ┆ 0             ┆ 0         │\n",
       " └────────────────┴────────┴─────────────┴────────────────┴───┴────────────────┴────────────┴───────────────┴───────────┘,\n",
       " shape: (5_296, 10)\n",
       " ┌────────────────┬────────┬─────────────┬────────────────┬───┬────────────────┬────────────┬───────────────┬───────────┐\n",
       " │ Contract ID    ┆ NAICS  ┆ Date Signed ┆ Contracting    ┆ … ┆ Business       ┆ Action     ┆ Modification  ┆ Total     │\n",
       " │ ---            ┆ ---    ┆ ---         ┆ Agency ID      ┆   ┆ Entity ID      ┆ Obligation ┆ Count         ┆ Modified  │\n",
       " │ str            ┆ i64    ┆ str         ┆ ---            ┆   ┆ ---            ┆ ($)        ┆ ---           ┆ Action    │\n",
       " │                ┆        ┆             ┆ str            ┆   ┆ str            ┆ ---        ┆ i64           ┆ Obligati… │\n",
       " │                ┆        ┆             ┆                ┆   ┆                ┆ i64        ┆               ┆ ---       │\n",
       " │                ┆        ┆             ┆                ┆   ┆                ┆            ┆               ┆ i64       │\n",
       " ╞════════════════╪════════╪═════════════╪════════════════╪═══╪════════════════╪════════════╪═══════════════╪═══════════╡\n",
       " │ GS09P08KLC0009 ┆ 236220 ┆ 2008-06-03  ┆ 4740           ┆ … ┆ DAEVLK3A7XF5   ┆ 260953     ┆ 0             ┆ 0         │\n",
       " │ GS03P16QNC7002 ┆ 236220 ┆ 2015-12-08  ┆ 4740           ┆ … ┆ KJETFRQ3TW77   ┆ 100908     ┆ 3             ┆ 8633      │\n",
       " │ 12456818C0028  ┆ 236220 ┆ 2018-08-31  ┆ 12C2           ┆ … ┆ E3MLMKJLNP96   ┆ 7136900    ┆ 11            ┆ 611421    │\n",
       " │ VA25610C0940   ┆ 236220 ┆ 2010-06-22  ┆ 3600           ┆ … ┆ PKY8AMMMHL38   ┆ 203596     ┆ 1             ┆ 17090     │\n",
       " │ 47PK2020C0011  ┆ 236220 ┆ 2020-07-06  ┆ 4740           ┆ … ┆ VJLRABACLTN9   ┆ 6523       ┆ 1             ┆ 0         │\n",
       " │ …              ┆ …      ┆ …           ┆ …              ┆ … ┆ …              ┆ …          ┆ …             ┆ …         │\n",
       " │ 47PE0120C0009  ┆ 236220 ┆ 2020-03-31  ┆ 4740           ┆ … ┆ JHLXRXUG7EL5   ┆ 104995     ┆ 1             ┆ 0         │\n",
       " │ W91B4M09C7175  ┆ 236220 ┆ 2009-05-08  ┆ 2100           ┆ … ┆ LN9PU5M2YZN5   ┆ 110000     ┆ 1             ┆ 109359    │\n",
       " │ W912QR11C0018  ┆ 236220 ┆ 2011-05-13  ┆ 2100           ┆ … ┆ CEL2B52TEJR5   ┆ 22856000   ┆ 21            ┆ 1604192   │\n",
       " │ 36C26224C0272  ┆ 236220 ┆ 2024-08-15  ┆ 3600           ┆ … ┆ JMNAHUM151N9   ┆ 30929      ┆ 1             ┆ 0         │\n",
       " │ 15F06718C00080 ┆ 236220 ┆ 2018-09-28  ┆ 1549           ┆ … ┆ K59MKTUMMMG5   ┆ 115000     ┆ 1             ┆ 8412      │\n",
       " │ 41             ┆        ┆             ┆                ┆   ┆                ┆            ┆               ┆           │\n",
       " └────────────────┴────────┴─────────────┴────────────────┴───┴────────────────┴────────────┴───────────────┴───────────┘,\n",
       " shape: (5_296, 10)\n",
       " ┌────────────────┬────────┬─────────────┬────────────────┬───┬────────────────┬────────────┬───────────────┬───────────┐\n",
       " │ Contract ID    ┆ NAICS  ┆ Date Signed ┆ Contracting    ┆ … ┆ Business       ┆ Action     ┆ Modification  ┆ Total     │\n",
       " │ ---            ┆ ---    ┆ ---         ┆ Agency ID      ┆   ┆ Entity ID      ┆ Obligation ┆ Count         ┆ Modified  │\n",
       " │ str            ┆ i64    ┆ str         ┆ ---            ┆   ┆ ---            ┆ ($)        ┆ ---           ┆ Action    │\n",
       " │                ┆        ┆             ┆ str            ┆   ┆ str            ┆ ---        ┆ i64           ┆ Obligati… │\n",
       " │                ┆        ┆             ┆                ┆   ┆                ┆ i64        ┆               ┆ ---       │\n",
       " │                ┆        ┆             ┆                ┆   ┆                ┆            ┆               ┆ i64       │\n",
       " ╞════════════════╪════════╪═════════════╪════════════════╪═══╪════════════════╪════════════╪═══════════════╪═══════════╡\n",
       " │ GS03P06DXC0049 ┆ 236220 ┆ 2006-03-31  ┆ 4740           ┆ … ┆ S931LTFN63M7   ┆ 131246     ┆ 4             ┆ 8914      │\n",
       " │ 36C24124C0044  ┆ 236220 ┆ 2024-03-28  ┆ 3600           ┆ … ┆ CAS5PNQBZL55   ┆ 765906     ┆ 2             ┆ 30154     │\n",
       " │ 36S79724C0003  ┆ 236220 ┆ 2024-09-26  ┆ 3600           ┆ … ┆ M1MTVBF5ZNY6   ┆ 2488075    ┆ 0             ┆ 0         │\n",
       " │ V546C507       ┆ 236220 ┆ 2005-09-07  ┆ 3600           ┆ … ┆ VVSDLYCKE9D6   ┆ 418787     ┆ 0             ┆ 0         │\n",
       " │ W9123609C0067  ┆ 236220 ┆ 2009-08-04  ┆ 2100           ┆ … ┆ FHW2BSM9GNY6   ┆ 0          ┆ 1             ┆ 0         │\n",
       " │ …              ┆ …      ┆ …           ┆ …              ┆ … ┆ …              ┆ …          ┆ …             ┆ …         │\n",
       " │ 47PM0124C0002  ┆ 236220 ┆ 2024-02-28  ┆ 4740           ┆ … ┆ NKUFT4RGWYE3   ┆ 702846     ┆ 2             ┆ 19828     │\n",
       " │ W912PP04C0025  ┆ 236220 ┆ 2004-09-30  ┆ 2100           ┆ … ┆ RZ6KK34KE6Y1   ┆ 7365000    ┆ 11            ┆ 82525     │\n",
       " │ W912JM07C0008  ┆ 236220 ┆ 2007-05-02  ┆ 2100           ┆ … ┆ S26CS5EGE4L5   ┆ 444330     ┆ 2             ┆ 3109      │\n",
       " │ VA251C0719     ┆ 236220 ┆ 2010-02-25  ┆ 3600           ┆ … ┆ GFUMJUGHUSZ7   ┆ 82330      ┆ 1             ┆ 1362      │\n",
       " │ VA786A13C0055  ┆ 236220 ┆ 2013-09-12  ┆ 3600           ┆ … ┆ U2CJJKJMGEX1   ┆ 49500      ┆ 0             ┆ 0         │\n",
       " └────────────────┴────────┴─────────────┴────────────────┴───┴────────────────┴────────────┴───────────────┴───────────┘,\n",
       " shape: (5_296, 10)\n",
       " ┌────────────────┬────────┬─────────────┬────────────────┬───┬────────────────┬────────────┬───────────────┬───────────┐\n",
       " │ Contract ID    ┆ NAICS  ┆ Date Signed ┆ Contracting    ┆ … ┆ Business       ┆ Action     ┆ Modification  ┆ Total     │\n",
       " │ ---            ┆ ---    ┆ ---         ┆ Agency ID      ┆   ┆ Entity ID      ┆ Obligation ┆ Count         ┆ Modified  │\n",
       " │ str            ┆ i64    ┆ str         ┆ ---            ┆   ┆ ---            ┆ ($)        ┆ ---           ┆ Action    │\n",
       " │                ┆        ┆             ┆ str            ┆   ┆ str            ┆ ---        ┆ i64           ┆ Obligati… │\n",
       " │                ┆        ┆             ┆                ┆   ┆                ┆ i64        ┆               ┆ ---       │\n",
       " │                ┆        ┆             ┆                ┆   ┆                ┆            ┆               ┆ i64       │\n",
       " ╞════════════════╪════════╪═════════════╪════════════════╪═══╪════════════════╪════════════╪═══════════════╪═══════════╡\n",
       " │ W912CN20C0014  ┆ 236220 ┆ 2020-09-16  ┆ 2100           ┆ … ┆ C9QYNTLL3LJ8   ┆ 11562      ┆ 1             ┆ 0         │\n",
       " │ VA255C1588     ┆ 236220 ┆ 2010-09-09  ┆ 3600           ┆ … ┆ ZHRKJX5UGJY7   ┆ 548745     ┆ 5             ┆ 51450     │\n",
       " │ FA448419CA021  ┆ 236220 ┆ 2019-07-31  ┆ 5700           ┆ … ┆ W89KZNBKUV97   ┆ 169443     ┆ 0             ┆ 0         │\n",
       " │ W5J9JE22C0007  ┆ 236220 ┆ 2022-09-30  ┆ 2100           ┆ … ┆ NN2NGPDNCK23   ┆ 1011500    ┆ 4             ┆ 89000     │\n",
       " │ 36C24422C0029  ┆ 236220 ┆ 2022-06-21  ┆ 3600           ┆ … ┆ RHDSJJX1JL85   ┆ 396200     ┆ 0             ┆ 0         │\n",
       " │ …              ┆ …      ┆ …           ┆ …              ┆ … ┆ …              ┆ …          ┆ …             ┆ …         │\n",
       " │ VA256C0047     ┆ 236220 ┆ 2007-07-20  ┆ 3600           ┆ … ┆ LHQGYCQEGCV1   ┆ 249343     ┆ 0             ┆ 0         │\n",
       " │ GS11P07YTC0491 ┆ 236220 ┆ 2007-09-18  ┆ 4740           ┆ … ┆ DW1LHQ7EA8T4   ┆ 849290     ┆ 0             ┆ 0         │\n",
       " │ VA261C0301     ┆ 236220 ┆ 2007-09-28  ┆ 3600           ┆ … ┆ HSPNN66K4HC7   ┆ 149020     ┆ 0             ┆ 0         │\n",
       " │ FA485504C0003  ┆ 236220 ┆ 2004-09-22  ┆ 5700           ┆ … ┆ HE7KKMMCLDW1   ┆ 495000     ┆ 1             ┆ 2015      │\n",
       " │ GS04P15EXC0277 ┆ 236220 ┆ 2015-08-27  ┆ 4740           ┆ … ┆ SN1WR812L9N4   ┆ 36827      ┆ 2             ┆ 5450      │\n",
       " └────────────────┴────────┴─────────────┴────────────────┴───┴────────────────┴────────────┴───────────────┴───────────┘,\n",
       " shape: (5_296, 10)\n",
       " ┌────────────────┬────────┬─────────────┬────────────────┬───┬────────────────┬────────────┬───────────────┬───────────┐\n",
       " │ Contract ID    ┆ NAICS  ┆ Date Signed ┆ Contracting    ┆ … ┆ Business       ┆ Action     ┆ Modification  ┆ Total     │\n",
       " │ ---            ┆ ---    ┆ ---         ┆ Agency ID      ┆   ┆ Entity ID      ┆ Obligation ┆ Count         ┆ Modified  │\n",
       " │ str            ┆ i64    ┆ str         ┆ ---            ┆   ┆ ---            ┆ ($)        ┆ ---           ┆ Action    │\n",
       " │                ┆        ┆             ┆ str            ┆   ┆ str            ┆ ---        ┆ i64           ┆ Obligati… │\n",
       " │                ┆        ┆             ┆                ┆   ┆                ┆ i64        ┆               ┆ ---       │\n",
       " │                ┆        ┆             ┆                ┆   ┆                ┆            ┆               ┆ i64       │\n",
       " ╞════════════════╪════════╪═════════════╪════════════════╪═══╪════════════════╪════════════╪═══════════════╪═══════════╡\n",
       " │ W9123614C0051  ┆ 236220 ┆ 2014-09-30  ┆ 2100           ┆ … ┆ CXUJGWBBW4V5   ┆ 5916347    ┆ 14            ┆ 1113128   │\n",
       " │ N6945007C3629  ┆ 236220 ┆ 2007-09-28  ┆ 1700           ┆ … ┆ PDCYQM94UZK4   ┆ 670000     ┆ 3             ┆ 0         │\n",
       " │ VA69D578C0806  ┆ 236220 ┆ 2008-10-30  ┆ 3600           ┆ … ┆ E2LNTGNM1968   ┆ 1323859    ┆ 1             ┆ 39893     │\n",
       " │ FA481912C0022  ┆ 236220 ┆ 2012-09-29  ┆ 5700           ┆ … ┆ NPJKNCY4FDJ2   ┆ 3744799    ┆ 9             ┆ 218897    │\n",
       " │ 47PD0220C0003  ┆ 236220 ┆ 2020-02-13  ┆ 4740           ┆ … ┆ D4D1LCJPNZJ9   ┆ 1409720    ┆ 7             ┆ 547708    │\n",
       " │ …              ┆ …      ┆ …           ┆ …              ┆ … ┆ …              ┆ …          ┆ …             ┆ …         │\n",
       " │ W9126G20C0057  ┆ 236220 ┆ 2020-09-25  ┆ 2100           ┆ … ┆ UFMFE76JDJN5   ┆ 703664     ┆ 6             ┆ 42577     │\n",
       " │ FA813722C0041  ┆ 236220 ┆ 2022-09-23  ┆ 5700           ┆ … ┆ D56MUMNUV8S5   ┆ 1486463    ┆ 0             ┆ 0         │\n",
       " │ W917BE09C0003  ┆ 236220 ┆ 2008-10-23  ┆ 2100           ┆ … ┆ LN9PU5M2YZN5   ┆ 1968750    ┆ 1             ┆ 1700625   │\n",
       " │ VA250RA0559    ┆ 236220 ┆ 2010-09-24  ┆ 3600           ┆ … ┆ HKZJSL7E9ZB3   ┆ 1767177    ┆ 1             ┆ 14490     │\n",
       " │ VA255C1310     ┆ 236220 ┆ 2009-08-11  ┆ 3600           ┆ … ┆ ML4MAF4TK123   ┆ 25000      ┆ 1             ┆ 0         │\n",
       " └────────────────┴────────┴─────────────┴────────────────┴───┴────────────────┴────────────┴───────────────┴───────────┘,\n",
       " shape: (5_296, 10)\n",
       " ┌────────────────┬────────┬─────────────┬────────────────┬───┬────────────────┬────────────┬───────────────┬───────────┐\n",
       " │ Contract ID    ┆ NAICS  ┆ Date Signed ┆ Contracting    ┆ … ┆ Business       ┆ Action     ┆ Modification  ┆ Total     │\n",
       " │ ---            ┆ ---    ┆ ---         ┆ Agency ID      ┆   ┆ Entity ID      ┆ Obligation ┆ Count         ┆ Modified  │\n",
       " │ str            ┆ i64    ┆ str         ┆ ---            ┆   ┆ ---            ┆ ($)        ┆ ---           ┆ Action    │\n",
       " │                ┆        ┆             ┆ str            ┆   ┆ str            ┆ ---        ┆ i64           ┆ Obligati… │\n",
       " │                ┆        ┆             ┆                ┆   ┆                ┆ i64        ┆               ┆ ---       │\n",
       " │                ┆        ┆             ┆                ┆   ┆                ┆            ┆               ┆ i64       │\n",
       " ╞════════════════╪════════╪═════════════╪════════════════╪═══╪════════════════╪════════════╪═══════════════╪═══════════╡\n",
       " │ FA822723C0002  ┆ 236220 ┆ 2023-08-12  ┆ 5700           ┆ … ┆ E6JFJLBFNC21   ┆ 734742     ┆ 4             ┆ 259232    │\n",
       " │ GS11P10MAM0483 ┆ 236220 ┆ 2010-07-28  ┆ 4740           ┆ … ┆ N61MVJMK7WA7   ┆ 6293       ┆ 0             ┆ 0         │\n",
       " │ W912DQ20C4020  ┆ 236220 ┆ 2020-09-28  ┆ 2100           ┆ … ┆ SHW3J24KKXD1   ┆ 888479     ┆ 2             ┆ 13568     │\n",
       " │ 36C26318C0097  ┆ 236220 ┆ 2018-07-10  ┆ 3600           ┆ … ┆ Z4W9XSFLRJL1   ┆ 4946650    ┆ 5             ┆ 307332    │\n",
       " │ GS09P10WFC0005 ┆ 236220 ┆ 2009-10-16  ┆ 4740           ┆ … ┆ M1CKFYKDLEX6   ┆ 3408       ┆ 0             ┆ 0         │\n",
       " │ …              ┆ …      ┆ …           ┆ …              ┆ … ┆ …              ┆ …          ┆ …             ┆ …         │\n",
       " │ 00262200309DV6 ┆ 236220 ┆ 2003-09-15  ┆ 3600           ┆ … ┆ JBH2HD9FLWE8   ┆ 438708     ┆ 0             ┆ 0         │\n",
       " │ 05C04668A      ┆        ┆             ┆                ┆   ┆                ┆            ┆               ┆           │\n",
       " │ 47PJ0017C0051  ┆ 236220 ┆ 2017-09-14  ┆ 4740           ┆ … ┆ LY5SALHHYQC7   ┆ 17752      ┆ 1             ┆ 0         │\n",
       " │ GS11P15YTC0305 ┆ 236220 ┆ 2015-09-23  ┆ 4740           ┆ … ┆ GLKUTRUS6RL5   ┆ 1740684    ┆ 15            ┆ 1021221   │\n",
       " │ GS03P17QNC0002 ┆ 236220 ┆ 2017-04-07  ┆ 4740           ┆ … ┆ D4D1LCJPNZJ9   ┆ 37997      ┆ 1             ┆ 0         │\n",
       " │ DOCSB134117CN0 ┆ 236220 ┆ 2017-09-22  ┆ 1341           ┆ … ┆ MA5RQD9GKT48   ┆ 86561      ┆ 1             ┆ 0         │\n",
       " │ 050            ┆        ┆             ┆                ┆   ┆                ┆            ┆               ┆           │\n",
       " └────────────────┴────────┴─────────────┴────────────────┴───┴────────────────┴────────────┴───────────────┴───────────┘,\n",
       " shape: (5_305, 10)\n",
       " ┌────────────────┬────────┬─────────────┬────────────────┬───┬────────────────┬────────────┬───────────────┬───────────┐\n",
       " │ Contract ID    ┆ NAICS  ┆ Date Signed ┆ Contracting    ┆ … ┆ Business       ┆ Action     ┆ Modification  ┆ Total     │\n",
       " │ ---            ┆ ---    ┆ ---         ┆ Agency ID      ┆   ┆ Entity ID      ┆ Obligation ┆ Count         ┆ Modified  │\n",
       " │ str            ┆ i64    ┆ str         ┆ ---            ┆   ┆ ---            ┆ ($)        ┆ ---           ┆ Action    │\n",
       " │                ┆        ┆             ┆ str            ┆   ┆ str            ┆ ---        ┆ i64           ┆ Obligati… │\n",
       " │                ┆        ┆             ┆                ┆   ┆                ┆ i64        ┆               ┆ ---       │\n",
       " │                ┆        ┆             ┆                ┆   ┆                ┆            ┆               ┆ i64       │\n",
       " ╞════════════════╪════════╪═════════════╪════════════════╪═══╪════════════════╪════════════╪═══════════════╪═══════════╡\n",
       " │ FA820107C0055  ┆ 236220 ┆ 2007-05-30  ┆ 5700           ┆ … ┆ CWVJEB454CR7   ┆ 749500     ┆ 0             ┆ 0         │\n",
       " │ VA243C1197     ┆ 236220 ┆ 2011-09-12  ┆ 3600           ┆ … ┆ VZCKAB8RKGQ7   ┆ 589000     ┆ 1             ┆ 0         │\n",
       " │ DTFACN15C00035 ┆ 236220 ┆ 2014-11-21  ┆ 6920           ┆ … ┆ RH6TXN1B1EN8   ┆ 56888      ┆ 0             ┆ 0         │\n",
       " │ ST000200308DGS ┆ 236220 ┆ 2003-08-15  ┆ 4740           ┆ … ┆ SLHNEK7CGAD6   ┆ 1998       ┆ 0             ┆ 0         │\n",
       " │ 05P03STM0054   ┆        ┆             ┆                ┆   ┆                ┆            ┆               ┆           │\n",
       " │ GS11P16YTC7206 ┆ 236220 ┆ 2016-09-19  ┆ 4740           ┆ … ┆ J36HXHWD8JY5   ┆ 904834     ┆ 2             ┆ 67334     │\n",
       " │ …              ┆ …      ┆ …           ┆ …              ┆ … ┆ …              ┆ …          ┆ …             ┆ …         │\n",
       " │ W90U4210C4063  ┆ 236220 ┆ 2010-05-05  ┆ 2100           ┆ … ┆ LN9PU5M2YZN5   ┆ 271452     ┆ 1             ┆ 0         │\n",
       " │ FA461013C0017  ┆ 236220 ┆ 2013-06-17  ┆ 5700           ┆ … ┆ ZMS1ZNDY2XV6   ┆ 60893      ┆ 0             ┆ 0         │\n",
       " │ 697DCK18C00213 ┆ 236220 ┆ 2018-05-03  ┆ 6920           ┆ … ┆ X9UNMCNK3A64   ┆ 347768     ┆ 2             ┆ 0         │\n",
       " │ N4008006C1049  ┆ 236220 ┆ 2006-08-02  ┆ 1700           ┆ … ┆ CEHNA6XZU795   ┆ 256297     ┆ 3             ┆ 38835     │\n",
       " │ W9124N10C0036  ┆ 236220 ┆ 2010-06-28  ┆ 2100           ┆ … ┆ D4NCDLCMJGL9   ┆ 99172      ┆ 0             ┆ 0         │\n",
       " └────────────────┴────────┴─────────────┴────────────────┴───┴────────────────┴────────────┴───────────────┴───────────┘]"
      ]
     },
     "execution_count": 3,
     "metadata": {},
     "output_type": "execute_result"
    }
   ],
   "source": [
    "chunks"
   ]
  },
  {
   "cell_type": "code",
   "execution_count": 14,
   "id": "e53ccfa1",
   "metadata": {},
   "outputs": [
    {
     "data": {
      "text/html": [
       "<div><style>\n",
       ".dataframe > thead > tr,\n",
       ".dataframe > tbody > tr {\n",
       "  text-align: right;\n",
       "  white-space: pre-wrap;\n",
       "}\n",
       "</style>\n",
       "<small>shape: (530,)</small><table border=\"1\" class=\"dataframe\"><thead><tr><th></th></tr><tr><td>str</td></tr></thead><tbody><tr><td>&quot;Open&quot;</td></tr><tr><td>&quot;Open&quot;</td></tr><tr><td>&quot;Open&quot;</td></tr><tr><td>&quot;Open&quot;</td></tr><tr><td>&quot;Open&quot;</td></tr><tr><td>&hellip;</td></tr><tr><td>&quot;Open&quot;</td></tr><tr><td>&quot;Open&quot;</td></tr><tr><td>&quot;Open&quot;</td></tr><tr><td>&quot;Open&quot;</td></tr><tr><td>&quot;Open&quot;</td></tr></tbody></table></div>"
      ],
      "text/plain": [
       "shape: (530,)\n",
       "Series: '' [str]\n",
       "[\n",
       "\t\"Open\"\n",
       "\t\"Open\"\n",
       "\t\"Open\"\n",
       "\t\"Open\"\n",
       "\t\"Open\"\n",
       "\t…\n",
       "\t\"Open\"\n",
       "\t\"Open\"\n",
       "\t\"Open\"\n",
       "\t\"Open\"\n",
       "\t\"Open\"\n",
       "]"
      ]
     },
     "execution_count": 14,
     "metadata": {},
     "output_type": "execute_result"
    }
   ],
   "source": [
    "pl.Series(comp_type)"
   ]
  },
  {
   "cell_type": "code",
   "execution_count": 12,
   "id": "2a955a75",
   "metadata": {},
   "outputs": [
    {
     "data": {
      "text/plain": [
       "530"
      ]
     },
     "execution_count": 12,
     "metadata": {},
     "output_type": "execute_result"
    }
   ],
   "source": [
    "len(comp_type)"
   ]
  },
  {
   "cell_type": "code",
   "execution_count": 15,
   "id": "c8e1e6a6",
   "metadata": {},
   "outputs": [
    {
     "name": "stderr",
     "output_type": "stream",
     "text": [
      "Processing rows: 100%|███████████████████████████████████████████████████████████| 2500/2500 [1:52:09<00:00,  2.69s/it]\n"
     ]
    }
   ],
   "source": [
    "###\n",
    "# this works for just one thread\n",
    "# \n",
    "###\n",
    "driver = driversetup()\n",
    "ranges = (0,2500)\n",
    "comp_type = []\n",
    "bids = []\n",
    "\n",
    "for row in tqdm(df[ranges[0]:ranges[1]].iter_rows(named=True), total=ranges[1]-ranges[0], desc=\"Processing rows\"):\n",
    "    contract_id = row['Contract ID']\n",
    "    agency_id = row['Contracting Agency ID']\n",
    "    agency_id = agency_id if agency_id != '2100' else '9700'\n",
    "    URL = f'https://www.fpds.gov/ezsearch/jsp/viewLinkController.jsp?agencyID={agency_id}&PIID={contract_id}&modNumber=0&transactionNumber=0&idvAgencyID=&idvPIID=&actionSource=searchScreen&actionCode=&documentVersion=1.0&contractType=AWARD&docType=D'\n",
    "    driver.get(URL)\n",
    "    # get extent competed and bids\n",
    "    try:\n",
    "        extent = driver.find_element(By.CSS_SELECTOR, \"#extentCompeted option:checked\").text\n",
    "    except:\n",
    "        extent = driver.find_element(By.ID, \"competitionInformationForDisplay\").get_attribute(\"value\")\n",
    "    bid_num = driver.find_element(By.ID, \"numberOfOffersReceived\").get_attribute(\"value\")\n",
    "    # add to lists\n",
    "    comp_type.append('Open' if extent not in special_comp_params else 'Restricted')\n",
    "    bids.append(bid_num)"
   ]
  },
  {
   "cell_type": "code",
   "execution_count": 16,
   "id": "c979e647",
   "metadata": {},
   "outputs": [],
   "source": [
    "df = df[ranges[0]:ranges[1]]\n",
    "merged_df = df.with_columns([\n",
    "    pl.Series('Competition Type', comp_type),\n",
    "    pl.Series('Bids', bids)\n",
    "])\n",
    "\n",
    "save_dir = os.path.join(os.getcwd(), f'{ranges[0]}_{ranges[1]}.csv')\n",
    "merged_df.write_csv(save_dir)"
   ]
  },
  {
   "cell_type": "code",
   "execution_count": 69,
   "id": "43a886ab",
   "metadata": {},
   "outputs": [
    {
     "name": "stderr",
     "output_type": "stream",
     "text": [
      "Processing rows: 100%|███████████████████████████████████████████████████████████| 2500/2500 [1:19:06<00:00,  1.90s/it]\n"
     ]
    }
   ],
   "source": [
    "###\n",
    "# this works for just one thread\n",
    "# \n",
    "###\n",
    "\n",
    "cur_dir = os.path.dirname(os.getcwd())\n",
    "naics_data_dir = os.path.join(cur_dir, 'NAICS Processed')\n",
    "df = pl.read_csv(os.path.join(naics_data_dir, '236220_second_proc.csv'))\n",
    "driver = driversetup()\n",
    "\n",
    "ranges = (2500,5000)\n",
    "comp_type = []\n",
    "bids = []\n",
    "\n",
    "for row in tqdm(df[ranges[0]:ranges[1]].iter_rows(named=True), total=ranges[1]-ranges[0], desc=\"Processing rows\"):\n",
    "    contract_id = row['Contract ID']\n",
    "    agency_id = row['Contracting Agency ID']\n",
    "    agency_id = agency_id if agency_id != '2100' else '9700'\n",
    "    URL = f'https://www.fpds.gov/ezsearch/jsp/viewLinkController.jsp?agencyID={agency_id}&PIID={contract_id}&modNumber=0&transactionNumber=0&idvAgencyID=&idvPIID=&actionSource=searchScreen&actionCode=&documentVersion=1.0&contractType=AWARD&docType=D'\n",
    "    driver.get(URL)\n",
    "    # get extent competed and bids\n",
    "    try:\n",
    "        extent = driver.find_element(By.CSS_SELECTOR, \"#extentCompeted option:checked\").text\n",
    "    except:\n",
    "        extent = driver.find_element(By.ID, \"competitionInformationForDisplay\").get_attribute(\"value\")\n",
    "    bid_num = driver.find_element(By.ID, \"numberOfOffersReceived\").get_attribute(\"value\")\n",
    "    # add to lists\n",
    "    comp_type.append('Open' if extent not in special_comp_params else 'Restricted')\n",
    "    bids.append(bid_num)\n",
    "    \n",
    "df = df[ranges[0]:ranges[1]]\n",
    "merged_df = df.with_columns([\n",
    "    pl.Series('Competition Type', comp_type),\n",
    "    pl.Series('Bids', bids)\n",
    "])\n",
    "\n",
    "save_dir = os.path.join(os.getcwd(), f'{ranges[0]}_{ranges[1]}.csv')\n",
    "merged_df.write_csv(save_dir)"
   ]
  },
  {
   "cell_type": "code",
   "execution_count": 17,
   "id": "193ea119",
   "metadata": {},
   "outputs": [
    {
     "name": "stderr",
     "output_type": "stream",
     "text": [
      "Processing rows: 100%|███████████████████████████████████████████████████████████| 2500/2500 [1:40:29<00:00,  2.41s/it]\n"
     ]
    }
   ],
   "source": [
    "###\n",
    "# this works for just one thread\n",
    "# \n",
    "###\n",
    "\n",
    "cur_dir = os.path.dirname(os.getcwd())\n",
    "naics_data_dir = os.path.join(cur_dir, 'NAICS Processed')\n",
    "df = pl.read_csv(os.path.join(naics_data_dir, '236220_second_proc.csv'))\n",
    "driver = driversetup()\n",
    "\n",
    "ranges = (5000,7500)\n",
    "comp_type = []\n",
    "bids = []\n",
    "\n",
    "for row in tqdm(df[ranges[0]:ranges[1]].iter_rows(named=True), total=ranges[1]-ranges[0], desc=\"Processing rows\"):\n",
    "    contract_id = row['Contract ID']\n",
    "    agency_id = row['Contracting Agency ID']\n",
    "    agency_id = agency_id if agency_id != '2100' else '9700'\n",
    "    URL = f'https://www.fpds.gov/ezsearch/jsp/viewLinkController.jsp?agencyID={agency_id}&PIID={contract_id}&modNumber=0&transactionNumber=0&idvAgencyID=&idvPIID=&actionSource=searchScreen&actionCode=&documentVersion=1.0&contractType=AWARD&docType=D'\n",
    "    driver.get(URL)\n",
    "    # get extent competed and bids\n",
    "    try:\n",
    "        extent = driver.find_element(By.CSS_SELECTOR, \"#extentCompeted option:checked\").text\n",
    "    except:\n",
    "        extent = driver.find_element(By.ID, \"competitionInformationForDisplay\").get_attribute(\"value\")\n",
    "    bid_num = driver.find_element(By.ID, \"numberOfOffersReceived\").get_attribute(\"value\")\n",
    "    # add to lists\n",
    "    comp_type.append('Open' if extent not in special_comp_params else 'Restricted')\n",
    "    bids.append(bid_num)\n",
    "    \n",
    "df = df[ranges[0]:ranges[1]]\n",
    "merged_df = df.with_columns([\n",
    "    pl.Series('Competition Type', comp_type),\n",
    "    pl.Series('Bids', bids)\n",
    "])\n",
    "\n",
    "save_dir = os.path.join(os.getcwd(), f'{ranges[0]}_{ranges[1]}.csv')\n",
    "merged_df.write_csv(save_dir)"
   ]
  },
  {
   "cell_type": "code",
   "execution_count": 72,
   "id": "8b06e988",
   "metadata": {},
   "outputs": [
    {
     "name": "stderr",
     "output_type": "stream",
     "text": [
      "Processing rows: 100%|███████████████████████████████████████████████████████████| 2500/2500 [1:49:45<00:00,  2.63s/it]\n"
     ]
    }
   ],
   "source": [
    "###\n",
    "# this works for just one thread\n",
    "# \n",
    "###\n",
    "\n",
    "cur_dir = os.path.dirname(os.getcwd())\n",
    "naics_data_dir = os.path.join(cur_dir, 'NAICS Processed')\n",
    "df = pl.read_csv(os.path.join(naics_data_dir, '236220_second_proc.csv'))\n",
    "driver = driversetup()\n",
    "\n",
    "ranges = (7500,10000)\n",
    "comp_type = []\n",
    "bids = []\n",
    "\n",
    "for row in tqdm(df[ranges[0]:ranges[1]].iter_rows(named=True), total=ranges[1]-ranges[0], desc=\"Processing rows\"):\n",
    "    contract_id = row['Contract ID']\n",
    "    agency_id = row['Contracting Agency ID']\n",
    "    agency_id = agency_id if agency_id != '2100' else '9700'\n",
    "    URL = f'https://www.fpds.gov/ezsearch/jsp/viewLinkController.jsp?agencyID={agency_id}&PIID={contract_id}&modNumber=0&transactionNumber=0&idvAgencyID=&idvPIID=&actionSource=searchScreen&actionCode=&documentVersion=1.0&contractType=AWARD&docType=D'\n",
    "    driver.get(URL)\n",
    "    # get extent competed and bids\n",
    "    try:\n",
    "        extent = driver.find_element(By.CSS_SELECTOR, \"#extentCompeted option:checked\").text\n",
    "    except:\n",
    "        extent = driver.find_element(By.ID, \"competitionInformationForDisplay\").get_attribute(\"value\")\n",
    "    bid_num = driver.find_element(By.ID, \"numberOfOffersReceived\").get_attribute(\"value\")\n",
    "    # add to lists\n",
    "    comp_type.append('Open' if extent not in special_comp_params else 'Restricted')\n",
    "    bids.append(bid_num)\n",
    "    \n",
    "df = df[ranges[0]:ranges[1]]\n",
    "merged_df = df.with_columns([\n",
    "    pl.Series('Competition Type', comp_type),\n",
    "    pl.Series('Bids', bids)\n",
    "])\n",
    "\n",
    "save_dir = os.path.join(os.getcwd(), f'{ranges[0]}_{ranges[1]}.csv')\n",
    "merged_df.write_csv(save_dir)"
   ]
  },
  {
   "cell_type": "code",
   "execution_count": 71,
   "id": "d2b47bb0",
   "metadata": {},
   "outputs": [
    {
     "data": {
      "text/plain": [
       "'https://www.fpds.gov/ezsearch/jsp/viewLinkController.jsp?agencyID=9700&PIID=W912DW07C0008&modNumber=0&transactionNumber=0&idvAgencyID=&idvPIID=&actionSource=searchScreen&actionCode=&documentVersion=1.0&contractType=AWARD&docType=D'"
      ]
     },
     "execution_count": 71,
     "metadata": {},
     "output_type": "execute_result"
    }
   ],
   "source": [
    "URL"
   ]
  },
  {
   "cell_type": "code",
   "execution_count": 3,
   "id": "bf8ff8f2",
   "metadata": {},
   "outputs": [
    {
     "name": "stderr",
     "output_type": "stream",
     "text": [
      "Processing rows: 100%|███████████████████████████████████████████████████████████| 2500/2500 [1:31:39<00:00,  2.20s/it]\n"
     ]
    }
   ],
   "source": [
    "###\n",
    "# this works for just one thread\n",
    "# \n",
    "###\n",
    "\n",
    "cur_dir = os.path.dirname(os.getcwd())\n",
    "naics_data_dir = os.path.join(cur_dir, 'NAICS Processed')\n",
    "df = pl.read_csv(os.path.join(naics_data_dir, '236220_second_proc.csv'))\n",
    "driver = driversetup()\n",
    "\n",
    "ranges = (10000,12500)\n",
    "comp_type = []\n",
    "bids = []\n",
    "\n",
    "for row in tqdm(df[ranges[0]:ranges[1]].iter_rows(named=True), total=ranges[1]-ranges[0], desc=\"Processing rows\"):\n",
    "    contract_id = row['Contract ID']\n",
    "    agency_id = row['Contracting Agency ID']\n",
    "    agency_id = agency_id if agency_id != '2100' else '9700'\n",
    "    URL = f'https://www.fpds.gov/ezsearch/jsp/viewLinkController.jsp?agencyID={agency_id}&PIID={contract_id}&modNumber=0&transactionNumber=0&idvAgencyID=&idvPIID=&actionSource=searchScreen&actionCode=&documentVersion=1.0&contractType=AWARD&docType=D'\n",
    "    driver.get(URL)\n",
    "    # get extent competed and bids\n",
    "    try:\n",
    "        extent = driver.find_element(By.CSS_SELECTOR, \"#extentCompeted option:checked\").text\n",
    "    except:\n",
    "        extent = driver.find_element(By.ID, \"competitionInformationForDisplay\").get_attribute(\"value\")\n",
    "    bid_num = driver.find_element(By.ID, \"numberOfOffersReceived\").get_attribute(\"value\")\n",
    "    # add to lists\n",
    "    comp_type.append('Open' if extent not in special_comp_params else 'Restricted')\n",
    "    bids.append(bid_num)\n",
    "    \n",
    "df = df[ranges[0]:ranges[1]]\n",
    "merged_df = df.with_columns([\n",
    "    pl.Series('Competition Type', comp_type),\n",
    "    pl.Series('Bids', bids)\n",
    "])\n",
    "\n",
    "save_dir = os.path.join(os.getcwd(), f'{ranges[0]}_{ranges[1]}.csv')\n",
    "merged_df.write_csv(save_dir)"
   ]
  },
  {
   "cell_type": "code",
   "execution_count": null,
   "id": "6744c9dd",
   "metadata": {},
   "outputs": [],
   "source": [
    "comp_type = []\n",
    "bids = []"
   ]
  },
  {
   "cell_type": "code",
   "execution_count": 8,
   "id": "d7fab911",
   "metadata": {},
   "outputs": [
    {
     "name": "stderr",
     "output_type": "stream",
     "text": [
      "Processing rows: 100%|███████████████████████████████████████████████████████████████| 525/525 [56:33<00:00,  6.46s/it]\n"
     ]
    }
   ],
   "source": [
    "###\n",
    "# this works for just one thread\n",
    "# \n",
    "###\n",
    "\n",
    "cur_dir = os.path.dirname(os.getcwd())\n",
    "naics_data_dir = os.path.join(cur_dir, 'NAICS Processed')\n",
    "df = pl.read_csv(os.path.join(naics_data_dir, '236220_second_proc.csv'))\n",
    "driver = driversetup()\n",
    "\n",
    "ranges = (12500,15000)\n",
    "# comp_type = []\n",
    "# bids = []\n",
    "\n",
    "for row in tqdm(df[ranges[0]+len(comp_type):ranges[1]].iter_rows(named=True), total=ranges[1]-ranges[0]-len(comp_type), desc=\"Processing rows\"):\n",
    "    contract_id = row['Contract ID']\n",
    "    agency_id = row['Contracting Agency ID']\n",
    "    agency_id = agency_id if agency_id != '2100' else '9700'\n",
    "    URL = f'https://www.fpds.gov/ezsearch/jsp/viewLinkController.jsp?agencyID={agency_id}&PIID={contract_id}&modNumber=0&transactionNumber=0&idvAgencyID=&idvPIID=&actionSource=searchScreen&actionCode=&documentVersion=1.0&contractType=AWARD&docType=D'\n",
    "    driver.get(URL)\n",
    "    # get extent competed and bids\n",
    "    try:\n",
    "        extent = driver.find_element(By.CSS_SELECTOR, \"#extentCompeted option:checked\").text\n",
    "    except:\n",
    "        time.sleep(0.5)\n",
    "        extent = driver.find_element(By.ID, \"competitionInformationForDisplay\").get_attribute(\"value\")\n",
    "    bid_num = driver.find_element(By.ID, \"numberOfOffersReceived\").get_attribute(\"value\")\n",
    "    # add to lists\n",
    "    comp_type.append('Open' if extent not in special_comp_params else 'Restricted')\n",
    "    bids.append(bid_num)\n",
    "    \n",
    "df = df[ranges[0]:ranges[1]]\n",
    "merged_df = df.with_columns([\n",
    "    pl.Series('Competition Type', comp_type),\n",
    "    pl.Series('Bids', bids)\n",
    "])\n",
    "\n",
    "save_dir = os.path.join(os.getcwd(), f'{ranges[0]}_{ranges[1]}.csv')\n",
    "merged_df.write_csv(save_dir)"
   ]
  },
  {
   "cell_type": "code",
   "execution_count": null,
   "id": "c62a68b9",
   "metadata": {},
   "outputs": [],
   "source": [
    "###\n",
    "# this works for just one thread\n",
    "# \n",
    "###\n",
    "\n",
    "cur_dir = os.path.dirname(os.getcwd())\n",
    "naics_data_dir = os.path.join(cur_dir, 'NAICS Processed')\n",
    "df = pl.read_csv(os.path.join(naics_data_dir, '236220_second_proc.csv'))\n",
    "driver = driversetup()\n",
    "\n",
    "ranges = (50000,52970)\n",
    "comp_type = []\n",
    "bids = []\n",
    "\n",
    "for row in tqdm(df[ranges[0]+len(comp_type):ranges[1]].iter_rows(named=True), total=ranges[1]-ranges[0]-len(comp_type), desc=\"Processing rows\"):\n",
    "    contract_id = row['Contract ID']\n",
    "    agency_id = row['Contracting Agency ID']\n",
    "    agency_id = agency_id if agency_id != '2100' else '9700'\n",
    "    URL = f'https://www.fpds.gov/ezsearch/jsp/viewLinkController.jsp?agencyID={agency_id}&PIID={contract_id}&modNumber=0&transactionNumber=0&idvAgencyID=&idvPIID=&actionSource=searchScreen&actionCode=&documentVersion=1.0&contractType=AWARD&docType=D'\n",
    "    driver.get(URL)\n",
    "    # get extent competed and bids\n",
    "    try:\n",
    "        extent = driver.find_element(By.CSS_SELECTOR, \"#extentCompeted option:checked\").text\n",
    "    except:\n",
    "        time.sleep(0.5)\n",
    "        extent = driver.find_element(By.ID, \"competitionInformationForDisplay\").get_attribute(\"value\")\n",
    "    bid_num = driver.find_element(By.ID, \"numberOfOffersReceived\").get_attribute(\"value\")\n",
    "    # add to lists\n",
    "    comp_type.append('Open' if extent not in special_comp_params else 'Restricted')\n",
    "    bids.append(bid_num)\n",
    "    \n",
    "df = df[ranges[0]:ranges[1]]\n",
    "merged_df = df.with_columns([\n",
    "    pl.Series('Competition Type', comp_type),\n",
    "    pl.Series('Bids', bids)\n",
    "])\n",
    "\n",
    "save_dir = os.path.join(os.getcwd(), f'{ranges[0]}_{ranges[1]}.csv')\n",
    "merged_df.write_csv(save_dir)"
   ]
  },
  {
   "cell_type": "code",
   "execution_count": null,
   "id": "bce13c26",
   "metadata": {},
   "outputs": [],
   "source": [
    "###\n",
    "# this works for just one thread\n",
    "# \n",
    "###\n",
    "\n",
    "cur_dir = os.path.dirname(os.getcwd())\n",
    "naics_data_dir = os.path.join(cur_dir, 'NAICS Processed')\n",
    "df = pl.read_csv(os.path.join(naics_data_dir, '236220_second_proc.csv'))\n",
    "driver = driversetup()\n",
    "\n",
    "ranges = (15000,17500)\n",
    "comp_type = []\n",
    "bids = []\n",
    "\n",
    "for row in tqdm(df[ranges[0]:ranges[1]].iter_rows(named=True), total=ranges[1]-ranges[0], desc=\"Processing rows\"):\n",
    "    contract_id = row['Contract ID']\n",
    "    agency_id = row['Contracting Agency ID']\n",
    "    agency_id = agency_id if agency_id != '2100' else '9700'\n",
    "    URL = f'https://www.fpds.gov/ezsearch/jsp/viewLinkController.jsp?agencyID={agency_id}&PIID={contract_id}&modNumber=0&transactionNumber=0&idvAgencyID=&idvPIID=&actionSource=searchScreen&actionCode=&documentVersion=1.0&contractType=AWARD&docType=D'\n",
    "    driver.get(URL)\n",
    "    # get extent competed and bids\n",
    "    try:\n",
    "        extent = driver.find_element(By.CSS_SELECTOR, \"#extentCompeted option:checked\").text\n",
    "    except:\n",
    "        extent = driver.find_element(By.ID, \"competitionInformationForDisplay\").get_attribute(\"value\")\n",
    "    bid_num = driver.find_element(By.ID, \"numberOfOffersReceived\").get_attribute(\"value\")\n",
    "    # add to lists\n",
    "    comp_type.append('Open' if extent not in special_comp_params else 'Restricted')\n",
    "    bids.append(bid_num)\n",
    "    \n",
    "df = df[ranges[0]:ranges[1]]\n",
    "merged_df = df.with_columns([\n",
    "    pl.Series('Competition Type', comp_type),\n",
    "    pl.Series('Bids', bids)\n",
    "])\n",
    "\n",
    "save_dir = os.path.join(os.getcwd(), f'{ranges[0]}_{ranges[1]}.csv')\n",
    "merged_df.write_csv(save_dir)"
   ]
  },
  {
   "cell_type": "code",
   "execution_count": null,
   "id": "232d1259",
   "metadata": {},
   "outputs": [],
   "source": [
    "###\n",
    "# this works for just one thread\n",
    "# \n",
    "###\n",
    "\n",
    "cur_dir = os.path.dirname(os.getcwd())\n",
    "naics_data_dir = os.path.join(cur_dir, 'NAICS Processed')\n",
    "df = pl.read_csv(os.path.join(naics_data_dir, '236220_second_proc.csv'))\n",
    "driver = driversetup()\n",
    "\n",
    "ranges = (17500,20000)\n",
    "comp_type = []\n",
    "bids = []\n",
    "\n",
    "for row in tqdm(df[ranges[0]:ranges[1]].iter_rows(named=True), total=ranges[1]-ranges[0], desc=\"Processing rows\"):\n",
    "    contract_id = row['Contract ID']\n",
    "    agency_id = row['Contracting Agency ID']\n",
    "    agency_id = agency_id if agency_id != '2100' else '9700'\n",
    "    URL = f'https://www.fpds.gov/ezsearch/jsp/viewLinkController.jsp?agencyID={agency_id}&PIID={contract_id}&modNumber=0&transactionNumber=0&idvAgencyID=&idvPIID=&actionSource=searchScreen&actionCode=&documentVersion=1.0&contractType=AWARD&docType=D'\n",
    "    driver.get(URL)\n",
    "    # get extent competed and bids\n",
    "    try:\n",
    "        extent = driver.find_element(By.CSS_SELECTOR, \"#extentCompeted option:checked\").text\n",
    "    except:\n",
    "        extent = driver.find_element(By.ID, \"competitionInformationForDisplay\").get_attribute(\"value\")\n",
    "    bid_num = driver.find_element(By.ID, \"numberOfOffersReceived\").get_attribute(\"value\")\n",
    "    # add to lists\n",
    "    comp_type.append('Open' if extent not in special_comp_params else 'Restricted')\n",
    "    bids.append(bid_num)\n",
    "    \n",
    "df = df[ranges[0]:ranges[1]]\n",
    "merged_df = df.with_columns([\n",
    "    pl.Series('Competition Type', comp_type),\n",
    "    pl.Series('Bids', bids)\n",
    "])\n",
    "\n",
    "save_dir = os.path.join(os.getcwd(), f'{ranges[0]}_{ranges[1]}.csv')\n",
    "merged_df.write_csv(save_dir)"
   ]
  },
  {
   "cell_type": "code",
   "execution_count": null,
   "id": "b64c7cc1",
   "metadata": {},
   "outputs": [],
   "source": [
    "###\n",
    "# this works for just one thread\n",
    "# \n",
    "###\n",
    "\n",
    "cur_dir = os.path.dirname(os.getcwd())\n",
    "naics_data_dir = os.path.join(cur_dir, 'NAICS Processed')\n",
    "df = pl.read_csv(os.path.join(naics_data_dir, '236220_second_proc.csv'))\n",
    "driver = driversetup()\n",
    "\n",
    "ranges = (50000,52970)\n",
    "comp_type = []\n",
    "bids = []\n",
    "\n",
    "for row in tqdm(df[ranges[0]:ranges[1]].iter_rows(named=True), total=ranges[1]-ranges[0], desc=\"Processing rows\"):\n",
    "    contract_id = row['Contract ID']\n",
    "    agency_id = row['Contracting Agency ID']\n",
    "    agency_id = agency_id if agency_id != '2100' else '9700'\n",
    "    URL = f'https://www.fpds.gov/ezsearch/jsp/viewLinkController.jsp?agencyID={agency_id}&PIID={contract_id}&modNumber=0&transactionNumber=0&idvAgencyID=&idvPIID=&actionSource=searchScreen&actionCode=&documentVersion=1.0&contractType=AWARD&docType=D'\n",
    "    driver.get(URL)\n",
    "    # get extent competed and bids\n",
    "    try:\n",
    "        extent = driver.find_element(By.CSS_SELECTOR, \"#extentCompeted option:checked\").text\n",
    "    except:\n",
    "        extent = driver.find_element(By.ID, \"competitionInformationForDisplay\").get_attribute(\"value\")\n",
    "    bid_num = driver.find_element(By.ID, \"numberOfOffersReceived\").get_attribute(\"value\")\n",
    "    # add to lists\n",
    "    comp_type.append('Open' if extent not in special_comp_params else 'Restricted')\n",
    "    bids.append(bid_num)\n",
    "    \n",
    "df = df[ranges[0]:ranges[1]]\n",
    "merged_df = df.with_columns([\n",
    "    pl.Series('Competition Type', comp_type),\n",
    "    pl.Series('Bids', bids)\n",
    "])\n",
    "\n",
    "save_dir = os.path.join(os.getcwd(), f'{ranges[0]}_{ranges[1]}.csv')\n",
    "merged_df.write_csv(save_dir)"
   ]
  },
  {
   "cell_type": "markdown",
   "id": "4a78bc49",
   "metadata": {},
   "source": [
    "### USA Spending Stuff"
   ]
  },
  {
   "cell_type": "code",
   "execution_count": 49,
   "id": "6bcc13ee",
   "metadata": {},
   "outputs": [],
   "source": [
    "def driversetup():\n",
    "    options = webdriver.ChromeOptions()\n",
    "    #run Selenium in headless mode\n",
    "    options.add_argument('--headless')\n",
    "    options.add_argument('--no-sandbox')\n",
    "    #overcome limited resource problems\n",
    "    options.add_argument('--disable-dev-shm-usage')\n",
    "    options.add_argument(\"lang=en\")\n",
    "    #open Browser in maximized mode\n",
    "    options.add_argument(\"start-maximized\")\n",
    "    #disable infobars\n",
    "    options.add_argument(\"disable-infobars\")\n",
    "    #disable extension\n",
    "    options.add_argument(\"--disable-extensions\")\n",
    "#     options.add_argument(\"--incognito\")\n",
    "    options.add_argument(\"--disable-blink-features=AutomationControlled\")\n",
    "    options.add_experimental_option('excludeSwitches', ['enable-logging'])\n",
    "    driver = webdriver.Chrome(options=options)\n",
    "    driver.execute_script(\"Object.defineProperty(navigator, 'webdriver', {get: () => undefined});\")\n",
    "    return driver\n",
    "\n",
    "# URL = 'https://www.usaspending.gov/search'\n",
    "# cur_dir = os.path.dirname(os.getcwd())\n",
    "# naics_data_dir = os.path.join(cur_dir, 'NAICS Processed')\n",
    "# df = pl.read_csv(os.path.join(naics_data_dir, '236220_second_proc.csv'))\n",
    "\n",
    "driver = driversetup()\n",
    "\n",
    "contract_id = 'GS11P14MAP0340'\n",
    "agency_id = '4740'\n",
    "agency_id = agency_id if agency_id != '2100' else '9700'\n",
    "URL = f'https://www.usaspending.gov/award/CONT_AWD_{contract_id}_{agency_id}_-NONE-_-NONE-'\n",
    "driver.get(URL)\n",
    "time.sleep(2)\n",
    "subawards = driver.find_element(By.XPATH, \"/html/body/div/div/main/div/div[6]/div/div[2]/div[1]/div[3]/div/div/div/div[2]\").text"
   ]
  },
  {
   "cell_type": "code",
   "execution_count": 68,
   "id": "2014b77e",
   "metadata": {},
   "outputs": [
    {
     "name": "stderr",
     "output_type": "stream",
     "text": [
      "Processing rows:   2%|▉                                                            | 39/2500 [03:59<4:11:42,  6.14s/it]\n"
     ]
    },
    {
     "ename": "NoSuchElementException",
     "evalue": "Message: no such element: Unable to locate element: {\"method\":\"xpath\",\"selector\":\"/html/body/div/div/main/div/div[5]/div/div[2]/div[1]/div[3]/div/div/div/div[2]\"}\n  (Session info: chrome=134.0.6998.89); For documentation on this error, please visit: https://www.selenium.dev/documentation/webdriver/troubleshooting/errors#no-such-element-exception\nStacktrace:\n\tGetHandleVerifier [0x00007FF78545FE45+26629]\n\t(No symbol) [0x00007FF7853C6010]\n\t(No symbol) [0x00007FF78525931A]\n\t(No symbol) [0x00007FF7852AF8E7]\n\t(No symbol) [0x00007FF7852AFB1C]\n\t(No symbol) [0x00007FF7853034A7]\n\t(No symbol) [0x00007FF7852D7AEF]\n\t(No symbol) [0x00007FF785300169]\n\t(No symbol) [0x00007FF7852D7883]\n\t(No symbol) [0x00007FF7852A0550]\n\t(No symbol) [0x00007FF7852A1803]\n\tGetHandleVerifier [0x00007FF7857B72BD+3529853]\n\tGetHandleVerifier [0x00007FF7857CDA22+3621858]\n\tGetHandleVerifier [0x00007FF7857C24D3+3575443]\n\tGetHandleVerifier [0x00007FF78552B77A+860474]\n\t(No symbol) [0x00007FF7853D088F]\n\t(No symbol) [0x00007FF7853CCBC4]\n\t(No symbol) [0x00007FF7853CCD66]\n\t(No symbol) [0x00007FF7853BC2C9]\n\tBaseThreadInitThunk [0x00007FFF4213E8D7+23]\n\tRtlUserThreadStart [0x00007FFF432FBF6C+44]\n",
     "output_type": "error",
     "traceback": [
      "\u001b[1;31m---------------------------------------------------------------------------\u001b[0m",
      "\u001b[1;31mNoSuchElementException\u001b[0m                    Traceback (most recent call last)",
      "Input \u001b[1;32mIn [68]\u001b[0m, in \u001b[0;36m<cell line: 10>\u001b[1;34m()\u001b[0m\n\u001b[0;32m     17\u001b[0m \u001b[38;5;28;01mtry\u001b[39;00m:\n\u001b[1;32m---> 18\u001b[0m     subawards \u001b[38;5;241m=\u001b[39m \u001b[43mdriver\u001b[49m\u001b[38;5;241;43m.\u001b[39;49m\u001b[43mfind_element\u001b[49m\u001b[43m(\u001b[49m\u001b[43mBy\u001b[49m\u001b[38;5;241;43m.\u001b[39;49m\u001b[43mXPATH\u001b[49m\u001b[43m,\u001b[49m\u001b[43m \u001b[49m\u001b[38;5;124;43m\"\u001b[39;49m\u001b[38;5;124;43m/html/body/div/div/main/div/div[6]/div/div[2]/div[1]/div[3]/div/div/div/div[2]\u001b[39;49m\u001b[38;5;124;43m\"\u001b[39;49m\u001b[43m)\u001b[49m\u001b[38;5;241m.\u001b[39mtext\n\u001b[0;32m     19\u001b[0m \u001b[38;5;28;01mexcept\u001b[39;00m:\n",
      "File \u001b[1;32m~\\anaconda3\\lib\\site-packages\\selenium\\webdriver\\remote\\webdriver.py:738\u001b[0m, in \u001b[0;36mWebDriver.find_element\u001b[1;34m(self, by, value)\u001b[0m\n\u001b[0;32m    736\u001b[0m     value \u001b[38;5;241m=\u001b[39m \u001b[38;5;124mf\u001b[39m\u001b[38;5;124m'\u001b[39m\u001b[38;5;124m[name=\u001b[39m\u001b[38;5;124m\"\u001b[39m\u001b[38;5;132;01m{\u001b[39;00mvalue\u001b[38;5;132;01m}\u001b[39;00m\u001b[38;5;124m\"\u001b[39m\u001b[38;5;124m]\u001b[39m\u001b[38;5;124m'\u001b[39m\n\u001b[1;32m--> 738\u001b[0m \u001b[38;5;28;01mreturn\u001b[39;00m \u001b[38;5;28;43mself\u001b[39;49m\u001b[38;5;241;43m.\u001b[39;49m\u001b[43mexecute\u001b[49m\u001b[43m(\u001b[49m\u001b[43mCommand\u001b[49m\u001b[38;5;241;43m.\u001b[39;49m\u001b[43mFIND_ELEMENT\u001b[49m\u001b[43m,\u001b[49m\u001b[43m \u001b[49m\u001b[43m{\u001b[49m\u001b[38;5;124;43m\"\u001b[39;49m\u001b[38;5;124;43musing\u001b[39;49m\u001b[38;5;124;43m\"\u001b[39;49m\u001b[43m:\u001b[49m\u001b[43m \u001b[49m\u001b[43mby\u001b[49m\u001b[43m,\u001b[49m\u001b[43m \u001b[49m\u001b[38;5;124;43m\"\u001b[39;49m\u001b[38;5;124;43mvalue\u001b[39;49m\u001b[38;5;124;43m\"\u001b[39;49m\u001b[43m:\u001b[49m\u001b[43m \u001b[49m\u001b[43mvalue\u001b[49m\u001b[43m}\u001b[49m\u001b[43m)\u001b[49m[\u001b[38;5;124m\"\u001b[39m\u001b[38;5;124mvalue\u001b[39m\u001b[38;5;124m\"\u001b[39m]\n",
      "File \u001b[1;32m~\\anaconda3\\lib\\site-packages\\selenium\\webdriver\\remote\\webdriver.py:344\u001b[0m, in \u001b[0;36mWebDriver.execute\u001b[1;34m(self, driver_command, params)\u001b[0m\n\u001b[0;32m    343\u001b[0m \u001b[38;5;28;01mif\u001b[39;00m response:\n\u001b[1;32m--> 344\u001b[0m     \u001b[38;5;28;43mself\u001b[39;49m\u001b[38;5;241;43m.\u001b[39;49m\u001b[43merror_handler\u001b[49m\u001b[38;5;241;43m.\u001b[39;49m\u001b[43mcheck_response\u001b[49m\u001b[43m(\u001b[49m\u001b[43mresponse\u001b[49m\u001b[43m)\u001b[49m\n\u001b[0;32m    345\u001b[0m     response[\u001b[38;5;124m\"\u001b[39m\u001b[38;5;124mvalue\u001b[39m\u001b[38;5;124m\"\u001b[39m] \u001b[38;5;241m=\u001b[39m \u001b[38;5;28mself\u001b[39m\u001b[38;5;241m.\u001b[39m_unwrap_value(response\u001b[38;5;241m.\u001b[39mget(\u001b[38;5;124m\"\u001b[39m\u001b[38;5;124mvalue\u001b[39m\u001b[38;5;124m\"\u001b[39m, \u001b[38;5;28;01mNone\u001b[39;00m))\n",
      "File \u001b[1;32m~\\anaconda3\\lib\\site-packages\\selenium\\webdriver\\remote\\errorhandler.py:229\u001b[0m, in \u001b[0;36mErrorHandler.check_response\u001b[1;34m(self, response)\u001b[0m\n\u001b[0;32m    228\u001b[0m     \u001b[38;5;28;01mraise\u001b[39;00m exception_class(message, screen, stacktrace, alert_text)  \u001b[38;5;66;03m# type: ignore[call-arg]  # mypy is not smart enough here\u001b[39;00m\n\u001b[1;32m--> 229\u001b[0m \u001b[38;5;28;01mraise\u001b[39;00m exception_class(message, screen, stacktrace)\n",
      "\u001b[1;31mNoSuchElementException\u001b[0m: Message: no such element: Unable to locate element: {\"method\":\"xpath\",\"selector\":\"/html/body/div/div/main/div/div[6]/div/div[2]/div[1]/div[3]/div/div/div/div[2]\"}\n  (Session info: chrome=134.0.6998.89); For documentation on this error, please visit: https://www.selenium.dev/documentation/webdriver/troubleshooting/errors#no-such-element-exception\nStacktrace:\n\tGetHandleVerifier [0x00007FF78545FE45+26629]\n\t(No symbol) [0x00007FF7853C6010]\n\t(No symbol) [0x00007FF78525931A]\n\t(No symbol) [0x00007FF7852AF8E7]\n\t(No symbol) [0x00007FF7852AFB1C]\n\t(No symbol) [0x00007FF7853034A7]\n\t(No symbol) [0x00007FF7852D7AEF]\n\t(No symbol) [0x00007FF785300169]\n\t(No symbol) [0x00007FF7852D7883]\n\t(No symbol) [0x00007FF7852A0550]\n\t(No symbol) [0x00007FF7852A1803]\n\tGetHandleVerifier [0x00007FF7857B72BD+3529853]\n\tGetHandleVerifier [0x00007FF7857CDA22+3621858]\n\tGetHandleVerifier [0x00007FF7857C24D3+3575443]\n\tGetHandleVerifier [0x00007FF78552B77A+860474]\n\t(No symbol) [0x00007FF7853D088F]\n\t(No symbol) [0x00007FF7853CCBC4]\n\t(No symbol) [0x00007FF7853CCD66]\n\t(No symbol) [0x00007FF7853BC2C9]\n\tBaseThreadInitThunk [0x00007FFF4213E8D7+23]\n\tRtlUserThreadStart [0x00007FFF432FBF6C+44]\n",
      "\nDuring handling of the above exception, another exception occurred:\n",
      "\u001b[1;31mNoSuchElementException\u001b[0m                    Traceback (most recent call last)",
      "Input \u001b[1;32mIn [68]\u001b[0m, in \u001b[0;36m<cell line: 10>\u001b[1;34m()\u001b[0m\n\u001b[0;32m     19\u001b[0m \u001b[38;5;28;01mexcept\u001b[39;00m:\n\u001b[0;32m     20\u001b[0m         time\u001b[38;5;241m.\u001b[39msleep(\u001b[38;5;241m10\u001b[39m)\n\u001b[1;32m---> 21\u001b[0m         subawards \u001b[38;5;241m=\u001b[39m \u001b[43mdriver\u001b[49m\u001b[38;5;241;43m.\u001b[39;49m\u001b[43mfind_element\u001b[49m\u001b[43m(\u001b[49m\u001b[43mBy\u001b[49m\u001b[38;5;241;43m.\u001b[39;49m\u001b[43mXPATH\u001b[49m\u001b[43m,\u001b[49m\u001b[43m \u001b[49m\u001b[38;5;124;43m\"\u001b[39;49m\u001b[38;5;124;43m/html/body/div/div/main/div/div[5]/div/div[2]/div[1]/div[3]/div/div/div/div[2]\u001b[39;49m\u001b[38;5;124;43m\"\u001b[39;49m\u001b[43m)\u001b[49m\u001b[38;5;241m.\u001b[39mtext\n\u001b[0;32m     22\u001b[0m \u001b[38;5;28;01mif\u001b[39;00m subawards \u001b[38;5;241m!=\u001b[39m \u001b[38;5;124m'\u001b[39m\u001b[38;5;124m0\u001b[39m\u001b[38;5;124m'\u001b[39m:\n\u001b[0;32m     23\u001b[0m     \u001b[38;5;28mprint\u001b[39m(contract_id)\n",
      "File \u001b[1;32m~\\anaconda3\\lib\\site-packages\\selenium\\webdriver\\remote\\webdriver.py:738\u001b[0m, in \u001b[0;36mWebDriver.find_element\u001b[1;34m(self, by, value)\u001b[0m\n\u001b[0;32m    735\u001b[0m     by \u001b[38;5;241m=\u001b[39m By\u001b[38;5;241m.\u001b[39mCSS_SELECTOR\n\u001b[0;32m    736\u001b[0m     value \u001b[38;5;241m=\u001b[39m \u001b[38;5;124mf\u001b[39m\u001b[38;5;124m'\u001b[39m\u001b[38;5;124m[name=\u001b[39m\u001b[38;5;124m\"\u001b[39m\u001b[38;5;132;01m{\u001b[39;00mvalue\u001b[38;5;132;01m}\u001b[39;00m\u001b[38;5;124m\"\u001b[39m\u001b[38;5;124m]\u001b[39m\u001b[38;5;124m'\u001b[39m\n\u001b[1;32m--> 738\u001b[0m \u001b[38;5;28;01mreturn\u001b[39;00m \u001b[38;5;28;43mself\u001b[39;49m\u001b[38;5;241;43m.\u001b[39;49m\u001b[43mexecute\u001b[49m\u001b[43m(\u001b[49m\u001b[43mCommand\u001b[49m\u001b[38;5;241;43m.\u001b[39;49m\u001b[43mFIND_ELEMENT\u001b[49m\u001b[43m,\u001b[49m\u001b[43m \u001b[49m\u001b[43m{\u001b[49m\u001b[38;5;124;43m\"\u001b[39;49m\u001b[38;5;124;43musing\u001b[39;49m\u001b[38;5;124;43m\"\u001b[39;49m\u001b[43m:\u001b[49m\u001b[43m \u001b[49m\u001b[43mby\u001b[49m\u001b[43m,\u001b[49m\u001b[43m \u001b[49m\u001b[38;5;124;43m\"\u001b[39;49m\u001b[38;5;124;43mvalue\u001b[39;49m\u001b[38;5;124;43m\"\u001b[39;49m\u001b[43m:\u001b[49m\u001b[43m \u001b[49m\u001b[43mvalue\u001b[49m\u001b[43m}\u001b[49m\u001b[43m)\u001b[49m[\u001b[38;5;124m\"\u001b[39m\u001b[38;5;124mvalue\u001b[39m\u001b[38;5;124m\"\u001b[39m]\n",
      "File \u001b[1;32m~\\anaconda3\\lib\\site-packages\\selenium\\webdriver\\remote\\webdriver.py:344\u001b[0m, in \u001b[0;36mWebDriver.execute\u001b[1;34m(self, driver_command, params)\u001b[0m\n\u001b[0;32m    342\u001b[0m response \u001b[38;5;241m=\u001b[39m \u001b[38;5;28mself\u001b[39m\u001b[38;5;241m.\u001b[39mcommand_executor\u001b[38;5;241m.\u001b[39mexecute(driver_command, params)\n\u001b[0;32m    343\u001b[0m \u001b[38;5;28;01mif\u001b[39;00m response:\n\u001b[1;32m--> 344\u001b[0m     \u001b[38;5;28;43mself\u001b[39;49m\u001b[38;5;241;43m.\u001b[39;49m\u001b[43merror_handler\u001b[49m\u001b[38;5;241;43m.\u001b[39;49m\u001b[43mcheck_response\u001b[49m\u001b[43m(\u001b[49m\u001b[43mresponse\u001b[49m\u001b[43m)\u001b[49m\n\u001b[0;32m    345\u001b[0m     response[\u001b[38;5;124m\"\u001b[39m\u001b[38;5;124mvalue\u001b[39m\u001b[38;5;124m\"\u001b[39m] \u001b[38;5;241m=\u001b[39m \u001b[38;5;28mself\u001b[39m\u001b[38;5;241m.\u001b[39m_unwrap_value(response\u001b[38;5;241m.\u001b[39mget(\u001b[38;5;124m\"\u001b[39m\u001b[38;5;124mvalue\u001b[39m\u001b[38;5;124m\"\u001b[39m, \u001b[38;5;28;01mNone\u001b[39;00m))\n\u001b[0;32m    346\u001b[0m     \u001b[38;5;28;01mreturn\u001b[39;00m response\n",
      "File \u001b[1;32m~\\anaconda3\\lib\\site-packages\\selenium\\webdriver\\remote\\errorhandler.py:229\u001b[0m, in \u001b[0;36mErrorHandler.check_response\u001b[1;34m(self, response)\u001b[0m\n\u001b[0;32m    227\u001b[0m         alert_text \u001b[38;5;241m=\u001b[39m value[\u001b[38;5;124m\"\u001b[39m\u001b[38;5;124malert\u001b[39m\u001b[38;5;124m\"\u001b[39m]\u001b[38;5;241m.\u001b[39mget(\u001b[38;5;124m\"\u001b[39m\u001b[38;5;124mtext\u001b[39m\u001b[38;5;124m\"\u001b[39m)\n\u001b[0;32m    228\u001b[0m     \u001b[38;5;28;01mraise\u001b[39;00m exception_class(message, screen, stacktrace, alert_text)  \u001b[38;5;66;03m# type: ignore[call-arg]  # mypy is not smart enough here\u001b[39;00m\n\u001b[1;32m--> 229\u001b[0m \u001b[38;5;28;01mraise\u001b[39;00m exception_class(message, screen, stacktrace)\n",
      "\u001b[1;31mNoSuchElementException\u001b[0m: Message: no such element: Unable to locate element: {\"method\":\"xpath\",\"selector\":\"/html/body/div/div/main/div/div[5]/div/div[2]/div[1]/div[3]/div/div/div/div[2]\"}\n  (Session info: chrome=134.0.6998.89); For documentation on this error, please visit: https://www.selenium.dev/documentation/webdriver/troubleshooting/errors#no-such-element-exception\nStacktrace:\n\tGetHandleVerifier [0x00007FF78545FE45+26629]\n\t(No symbol) [0x00007FF7853C6010]\n\t(No symbol) [0x00007FF78525931A]\n\t(No symbol) [0x00007FF7852AF8E7]\n\t(No symbol) [0x00007FF7852AFB1C]\n\t(No symbol) [0x00007FF7853034A7]\n\t(No symbol) [0x00007FF7852D7AEF]\n\t(No symbol) [0x00007FF785300169]\n\t(No symbol) [0x00007FF7852D7883]\n\t(No symbol) [0x00007FF7852A0550]\n\t(No symbol) [0x00007FF7852A1803]\n\tGetHandleVerifier [0x00007FF7857B72BD+3529853]\n\tGetHandleVerifier [0x00007FF7857CDA22+3621858]\n\tGetHandleVerifier [0x00007FF7857C24D3+3575443]\n\tGetHandleVerifier [0x00007FF78552B77A+860474]\n\t(No symbol) [0x00007FF7853D088F]\n\t(No symbol) [0x00007FF7853CCBC4]\n\t(No symbol) [0x00007FF7853CCD66]\n\t(No symbol) [0x00007FF7853BC2C9]\n\tBaseThreadInitThunk [0x00007FFF4213E8D7+23]\n\tRtlUserThreadStart [0x00007FFF432FBF6C+44]\n"
     ]
    }
   ],
   "source": [
    "driver = driversetup()\n",
    "ranges = (0,2500)\n",
    "\n",
    "contract_id = row['Contract ID']\n",
    "agency_id = row['Contracting Agency ID']\n",
    "agency_id = agency_id if agency_id != '2100' else '9700'\n",
    "URL = f'https://www.usaspending.gov/award/CONT_AWD_{contract_id}_{agency_id}_-NONE-_-NONE-'\n",
    "driver.get(URL)\n",
    "\n",
    "for row in tqdm(df[ranges[0]:ranges[1]].iter_rows(named=True), total=ranges[1]-ranges[0], desc=\"Processing rows\"):\n",
    "    contract_id = row['Contract ID']\n",
    "    agency_id = row['Contracting Agency ID']\n",
    "    agency_id = agency_id if agency_id != '2100' else '9700'\n",
    "    URL = f'https://www.usaspending.gov/award/CONT_AWD_{contract_id}_{agency_id}_-NONE-_-NONE-'\n",
    "    driver.get(URL)\n",
    "    time.sleep(3)\n",
    "    try:\n",
    "        subawards = driver.find_element(By.XPATH, \"/html/body/div/div/main/div/div[6]/div/div[2]/div[1]/div[3]/div/div/div/div[2]\").text\n",
    "    except:\n",
    "            time.sleep(10)\n",
    "            subawards = driver.find_element(By.XPATH, \"/html/body/div/div/main/div/div[5]/div/div[2]/div[1]/div[3]/div/div/div/div[2]\").text\n",
    "    if subawards != '0':\n",
    "        print(contract_id)\n",
    "        break"
   ]
  },
  {
   "cell_type": "code",
   "execution_count": 66,
   "id": "c5c937ad",
   "metadata": {},
   "outputs": [
    {
     "data": {
      "text/plain": [
       "'https://www.usaspending.gov/award/CONT_AWD_IND0407CT66810_1406_-NONE-_-NONE-'"
      ]
     },
     "execution_count": 66,
     "metadata": {},
     "output_type": "execute_result"
    }
   ],
   "source": [
    "URL"
   ]
  },
  {
   "cell_type": "code",
   "execution_count": 55,
   "id": "c8149604",
   "metadata": {},
   "outputs": [
    {
     "data": {
      "text/html": [
       "<div><style>\n",
       ".dataframe > thead > tr,\n",
       ".dataframe > tbody > tr {\n",
       "  text-align: right;\n",
       "  white-space: pre-wrap;\n",
       "}\n",
       "</style>\n",
       "<small>shape: (52_969, 10)</small><table border=\"1\" class=\"dataframe\"><thead><tr><th>Contract ID</th><th>NAICS</th><th>Date Signed</th><th>Contracting Agency ID</th><th>PSC</th><th>Region</th><th>Business Entity ID</th><th>Action Obligation ($)</th><th>Modification Count</th><th>Total Modified Action Obligation ($)</th></tr><tr><td>str</td><td>i64</td><td>str</td><td>str</td><td>str</td><td>str</td><td>str</td><td>i64</td><td>i64</td><td>i64</td></tr></thead><tbody><tr><td>&quot;GS11P14MAP0340&quot;</td><td>236220</td><td>&quot;2014-10-16&quot;</td><td>&quot;4740&quot;</td><td>&quot;Z2AA&quot;</td><td>&quot;Southeast&quot;</td><td>&quot;RWDWFG6WGRK9&quot;</td><td>644325</td><td>1</td><td>28426</td></tr><tr><td>&quot;IND0407CT66810&quot;</td><td>236220</td><td>&quot;2006-12-21&quot;</td><td>&quot;1406&quot;</td><td>&quot;Y199&quot;</td><td>&quot;West&quot;</td><td>&quot;U4K9M66MUHR9&quot;</td><td>68450</td><td>0</td><td>0</td></tr><tr><td>&quot;W912LD06C0036&quot;</td><td>236220</td><td>&quot;2006-09-25&quot;</td><td>&quot;2100&quot;</td><td>&quot;Y111&quot;</td><td>&quot;Northeast&quot;</td><td>&quot;EATDZJL6JFJ5&quot;</td><td>12573650</td><td>15</td><td>556384</td></tr><tr><td>&quot;GS11P06ZGC0339&quot;</td><td>236220</td><td>&quot;2006-10-17&quot;</td><td>&quot;4740&quot;</td><td>&quot;J039&quot;</td><td>&quot;Southeast&quot;</td><td>&quot;QKCFMFL4MKT6&quot;</td><td>11943</td><td>1</td><td>1504</td></tr><tr><td>&quot;HHSD200200618928C&quot;</td><td>236220</td><td>&quot;2006-08-30&quot;</td><td>&quot;7523&quot;</td><td>&quot;Y111&quot;</td><td>&quot;Midwest&quot;</td><td>&quot;TTHNY8N2PQR3&quot;</td><td>192500</td><td>1</td><td>38349</td></tr><tr><td>&hellip;</td><td>&hellip;</td><td>&hellip;</td><td>&hellip;</td><td>&hellip;</td><td>&hellip;</td><td>&hellip;</td><td>&hellip;</td><td>&hellip;</td><td>&hellip;</td></tr><tr><td>&quot;W90U4210C4063&quot;</td><td>236220</td><td>&quot;2010-05-05&quot;</td><td>&quot;2100&quot;</td><td>&quot;Y111&quot;</td><td>&quot;Southeast&quot;</td><td>&quot;LN9PU5M2YZN5&quot;</td><td>271452</td><td>1</td><td>0</td></tr><tr><td>&quot;FA461013C0017&quot;</td><td>236220</td><td>&quot;2013-06-17&quot;</td><td>&quot;5700&quot;</td><td>&quot;Z2JZ&quot;</td><td>&quot;Midwest&quot;</td><td>&quot;ZMS1ZNDY2XV6&quot;</td><td>60893</td><td>0</td><td>0</td></tr><tr><td>&quot;697DCK18C00213&quot;</td><td>236220</td><td>&quot;2018-05-03&quot;</td><td>&quot;6920&quot;</td><td>&quot;Y1BC&quot;</td><td>&quot;West&quot;</td><td>&quot;X9UNMCNK3A64&quot;</td><td>347768</td><td>2</td><td>0</td></tr><tr><td>&quot;N4008006C1049&quot;</td><td>236220</td><td>&quot;2006-08-02&quot;</td><td>&quot;1700&quot;</td><td>&quot;Z199&quot;</td><td>&quot;Southeast&quot;</td><td>&quot;CEHNA6XZU795&quot;</td><td>256297</td><td>3</td><td>38835</td></tr><tr><td>&quot;W9124N10C0036&quot;</td><td>236220</td><td>&quot;2010-06-28&quot;</td><td>&quot;2100&quot;</td><td>&quot;Z164&quot;</td><td>&quot;West&quot;</td><td>&quot;D4NCDLCMJGL9&quot;</td><td>99172</td><td>0</td><td>0</td></tr></tbody></table></div>"
      ],
      "text/plain": [
       "shape: (52_969, 10)\n",
       "┌────────────────┬────────┬─────────────┬────────────────┬───┬────────────────┬────────────┬───────────────┬───────────┐\n",
       "│ Contract ID    ┆ NAICS  ┆ Date Signed ┆ Contracting    ┆ … ┆ Business       ┆ Action     ┆ Modification  ┆ Total     │\n",
       "│ ---            ┆ ---    ┆ ---         ┆ Agency ID      ┆   ┆ Entity ID      ┆ Obligation ┆ Count         ┆ Modified  │\n",
       "│ str            ┆ i64    ┆ str         ┆ ---            ┆   ┆ ---            ┆ ($)        ┆ ---           ┆ Action    │\n",
       "│                ┆        ┆             ┆ str            ┆   ┆ str            ┆ ---        ┆ i64           ┆ Obligati… │\n",
       "│                ┆        ┆             ┆                ┆   ┆                ┆ i64        ┆               ┆ ---       │\n",
       "│                ┆        ┆             ┆                ┆   ┆                ┆            ┆               ┆ i64       │\n",
       "╞════════════════╪════════╪═════════════╪════════════════╪═══╪════════════════╪════════════╪═══════════════╪═══════════╡\n",
       "│ GS11P14MAP0340 ┆ 236220 ┆ 2014-10-16  ┆ 4740           ┆ … ┆ RWDWFG6WGRK9   ┆ 644325     ┆ 1             ┆ 28426     │\n",
       "│ IND0407CT66810 ┆ 236220 ┆ 2006-12-21  ┆ 1406           ┆ … ┆ U4K9M66MUHR9   ┆ 68450      ┆ 0             ┆ 0         │\n",
       "│ W912LD06C0036  ┆ 236220 ┆ 2006-09-25  ┆ 2100           ┆ … ┆ EATDZJL6JFJ5   ┆ 12573650   ┆ 15            ┆ 556384    │\n",
       "│ GS11P06ZGC0339 ┆ 236220 ┆ 2006-10-17  ┆ 4740           ┆ … ┆ QKCFMFL4MKT6   ┆ 11943      ┆ 1             ┆ 1504      │\n",
       "│ HHSD2002006189 ┆ 236220 ┆ 2006-08-30  ┆ 7523           ┆ … ┆ TTHNY8N2PQR3   ┆ 192500     ┆ 1             ┆ 38349     │\n",
       "│ 28C            ┆        ┆             ┆                ┆   ┆                ┆            ┆               ┆           │\n",
       "│ …              ┆ …      ┆ …           ┆ …              ┆ … ┆ …              ┆ …          ┆ …             ┆ …         │\n",
       "│ W90U4210C4063  ┆ 236220 ┆ 2010-05-05  ┆ 2100           ┆ … ┆ LN9PU5M2YZN5   ┆ 271452     ┆ 1             ┆ 0         │\n",
       "│ FA461013C0017  ┆ 236220 ┆ 2013-06-17  ┆ 5700           ┆ … ┆ ZMS1ZNDY2XV6   ┆ 60893      ┆ 0             ┆ 0         │\n",
       "│ 697DCK18C00213 ┆ 236220 ┆ 2018-05-03  ┆ 6920           ┆ … ┆ X9UNMCNK3A64   ┆ 347768     ┆ 2             ┆ 0         │\n",
       "│ N4008006C1049  ┆ 236220 ┆ 2006-08-02  ┆ 1700           ┆ … ┆ CEHNA6XZU795   ┆ 256297     ┆ 3             ┆ 38835     │\n",
       "│ W9124N10C0036  ┆ 236220 ┆ 2010-06-28  ┆ 2100           ┆ … ┆ D4NCDLCMJGL9   ┆ 99172      ┆ 0             ┆ 0         │\n",
       "└────────────────┴────────┴─────────────┴────────────────┴───┴────────────────┴────────────┴───────────────┴───────────┘"
      ]
     },
     "execution_count": 55,
     "metadata": {},
     "output_type": "execute_result"
    }
   ],
   "source": [
    "df"
   ]
  },
  {
   "cell_type": "code",
   "execution_count": null,
   "id": "9d2839e5",
   "metadata": {},
   "outputs": [],
   "source": [
    "    contract_id = row['Contract ID']\n",
    "    agency_id = row['Contracting Agency ID']\n",
    "    agency_id = agency_id if agency_id != '2100' else '9700'\n",
    "    URL = f'https://www.usaspending.gov/award/CONT_AWD_{contract_id}_{agency_id}_-NONE-_-NONE-'"
   ]
  },
  {
   "cell_type": "code",
   "execution_count": 9,
   "id": "334f2c3d",
   "metadata": {},
   "outputs": [
    {
     "data": {
      "text/plain": [
       "(2500, 10)"
      ]
     },
     "execution_count": 9,
     "metadata": {},
     "output_type": "execute_result"
    }
   ],
   "source": [
    "df.shape"
   ]
  },
  {
   "cell_type": "code",
   "execution_count": null,
   "id": "f8e13589",
   "metadata": {},
   "outputs": [],
   "source": []
  }
 ],
 "metadata": {
  "kernelspec": {
   "display_name": "Python 3 (ipykernel)",
   "language": "python",
   "name": "python3"
  },
  "language_info": {
   "codemirror_mode": {
    "name": "ipython",
    "version": 3
   },
   "file_extension": ".py",
   "mimetype": "text/x-python",
   "name": "python",
   "nbconvert_exporter": "python",
   "pygments_lexer": "ipython3",
   "version": "3.9.12"
  }
 },
 "nbformat": 4,
 "nbformat_minor": 5
}
