{
 "cells": [
  {
   "cell_type": "code",
   "execution_count": 1,
   "id": "ff12e52e",
   "metadata": {},
   "outputs": [],
   "source": [
    "from selenium import webdriver\n",
    "from selenium.webdriver.chrome.service import Service\n",
    "from selenium.webdriver.common.by import By\n",
    "from webdriver_manager.chrome import ChromeDriverManager\n",
    "from tqdm import tqdm\n",
    "import math\n",
    "import time\n",
    "import os\n",
    "import polars as pl\n",
    "import concurrent.futures\n",
    "\n",
    "def driversetup():\n",
    "    options = webdriver.ChromeOptions()\n",
    "    #run Selenium in headless mode\n",
    "    options.add_argument('--headless')\n",
    "    options.add_argument('--no-sandbox')\n",
    "    #overcome limited resource problems\n",
    "    options.add_argument('--disable-dev-shm-usage')\n",
    "    options.add_argument(\"lang=en\")\n",
    "    #open Browser in maximized mode\n",
    "    options.add_argument(\"start-maximized\")\n",
    "    #disable infobars\n",
    "    options.add_argument(\"disable-infobars\")\n",
    "    #disable extension\n",
    "    options.add_argument(\"--disable-extensions\")\n",
    "#     options.add_argument(\"--incognito\")\n",
    "    options.add_argument(\"--disable-blink-features=AutomationControlled\")\n",
    "    options.add_experimental_option('excludeSwitches', ['enable-logging'])\n",
    "    driver = webdriver.Chrome(options=options)\n",
    "    driver.execute_script(\"Object.defineProperty(navigator, 'webdriver', {get: () => undefined});\")\n",
    "    return driver\n",
    "\n",
    "BASE_URL = 'https://www.fpds.gov/ezsearch/search.do?indexName=awardfull&templateName=1.5.3&s=FPDS.GOV&q='\n",
    "cur_dir = os.path.dirname(os.getcwd())\n",
    "naics_data_dir = os.path.join(cur_dir, 'NAICS Processed')\n",
    "df = pl.read_csv(os.path.join(naics_data_dir, '236220_second_proc.csv'))\n",
    "df.head()\n",
    "\n",
    "special_comp_params = [\"Follow On to Competed Action\",\n",
    "                       \"Not Available for Competition\",\n",
    "                       \"Not Competed\"]"
   ]
  },
  {
   "cell_type": "code",
   "execution_count": 2,
   "id": "042f9634",
   "metadata": {},
   "outputs": [],
   "source": [
    "ranges = [35000,40000]"
   ]
  },
  {
   "cell_type": "code",
   "execution_count": 4,
   "id": "7d72b7f3",
   "metadata": {},
   "outputs": [
    {
     "name": "stderr",
     "output_type": "stream",
     "text": [
      "Processing rows: 100%|███████████████████████████████████████████████████████████| 5000/5000 [1:36:16<00:00,  1.16s/it]\n"
     ]
    }
   ],
   "source": [
    "# initial run through\n",
    "driver = driversetup()\n",
    "   \n",
    "comp_type = []\n",
    "bids = []\n",
    "\n",
    "driver.get(BASE_URL)\n",
    "\n",
    "for row in tqdm(df[ranges[0]:ranges[1]].iter_rows(named=True), total=ranges[1] - ranges[0], desc=\"Processing rows\"):\n",
    "    contract_id = row['Contract ID']\n",
    "    try:\n",
    "        search_input = driver.find_element(\"id\", \"searchText\")\n",
    "    except:\n",
    "        comp_type.append('Error')\n",
    "        bids.append(0)\n",
    "        continue\n",
    "    search_input.clear()  # clear input\n",
    "    search_input.send_keys(contract_id)  # send new contract\n",
    "    time.sleep(0.1)\n",
    "    # click search button\n",
    "    driver.find_element(By.XPATH, \"/html/body/form/table/tbody/tr[2]/td[2]/input\").click()\n",
    "    original_window = driver.current_window_handle\n",
    "    # get the original contract\n",
    "    view_query = f'/html/body/table[4]/tbody/tr/td[2]/table/tbody/tr[2]/td/table/tbody/tr/td/table[1]/tbody/tr[1]/td[2]/span/a[3]'\n",
    "    try:\n",
    "        driver.find_element(By.XPATH, view_query).click()\n",
    "    except:\n",
    "        comp_type.append('Error')\n",
    "        bids.append(0)\n",
    "        continue\n",
    "    # switch tabs\n",
    "    all_windows = driver.window_handles\n",
    "\n",
    "    for window in all_windows:\n",
    "        if window != original_window:\n",
    "            driver.switch_to.window(window)\n",
    "            break  # Switch to the newest tab and exit the loop\n",
    "\n",
    "    # get extent competed\n",
    "    try:\n",
    "        extent = driver.find_element(By.CSS_SELECTOR, \"#extentCompeted option:checked\").text\n",
    "    except:\n",
    "        comp_type.append('Error')\n",
    "        bids.append(0)\n",
    "        continue\n",
    "    \n",
    "    # get number of bids\n",
    "    bid_num = 1\n",
    "    if extent not in special_comp_params: # if normal competition\n",
    "        bid_num = driver.find_element(By.ID, \"numberOfOffersReceived\").get_attribute(\"value\")\n",
    "\n",
    "    # switch back to original window and close the others\n",
    "    for window in driver.window_handles:\n",
    "        if window != original_window:\n",
    "            driver.switch_to.window(window)\n",
    "            driver.close() \n",
    "            \n",
    "    # add to lists\n",
    "    comp_type.append('Open' if extent not in special_comp_params else 'Restricted')\n",
    "    bids.append(bid_num)\n",
    "            \n",
    "    driver.switch_to.window(original_window)"
   ]
  },
  {
   "cell_type": "code",
   "execution_count": 5,
   "id": "e7e92be2",
   "metadata": {},
   "outputs": [
    {
     "ename": "TypeError",
     "evalue": "unexpected value while building Series of type String; found value of type Int64: 0\n\nHint: Try setting `strict=False` to allow passing data with mixed types.",
     "output_type": "error",
     "traceback": [
      "\u001b[1;31m---------------------------------------------------------------------------\u001b[0m",
      "\u001b[1;31mTypeError\u001b[0m                                 Traceback (most recent call last)",
      "File \u001b[1;32m~\\anaconda3\\lib\\site-packages\\polars\\_utils\\construction\\series.py:308\u001b[0m, in \u001b[0;36m_construct_series_with_fallbacks\u001b[1;34m(constructor, name, values, dtype, strict)\u001b[0m\n\u001b[0;32m    307\u001b[0m \u001b[38;5;28;01mtry\u001b[39;00m:\n\u001b[1;32m--> 308\u001b[0m     \u001b[38;5;28;01mreturn\u001b[39;00m \u001b[43mconstructor\u001b[49m\u001b[43m(\u001b[49m\u001b[43mname\u001b[49m\u001b[43m,\u001b[49m\u001b[43m \u001b[49m\u001b[43mvalues\u001b[49m\u001b[43m,\u001b[49m\u001b[43m \u001b[49m\u001b[43mstrict\u001b[49m\u001b[43m)\u001b[49m\n\u001b[0;32m    309\u001b[0m \u001b[38;5;28;01mexcept\u001b[39;00m \u001b[38;5;167;01mTypeError\u001b[39;00m:\n",
      "\u001b[1;31mTypeError\u001b[0m: 'int' object cannot be converted to 'PyString'",
      "\nDuring handling of the above exception, another exception occurred:\n",
      "\u001b[1;31mTypeError\u001b[0m                                 Traceback (most recent call last)",
      "Input \u001b[1;32mIn [5]\u001b[0m, in \u001b[0;36m<cell line: 2>\u001b[1;34m()\u001b[0m\n\u001b[0;32m      1\u001b[0m df \u001b[38;5;241m=\u001b[39m df[ranges[\u001b[38;5;241m0\u001b[39m]:ranges[\u001b[38;5;241m1\u001b[39m]]\n\u001b[0;32m      2\u001b[0m merged_df \u001b[38;5;241m=\u001b[39m df\u001b[38;5;241m.\u001b[39mwith_columns([\n\u001b[0;32m      3\u001b[0m     pl\u001b[38;5;241m.\u001b[39mSeries(\u001b[38;5;124m'\u001b[39m\u001b[38;5;124mCompetition Type\u001b[39m\u001b[38;5;124m'\u001b[39m, comp_type),\n\u001b[1;32m----> 4\u001b[0m     \u001b[43mpl\u001b[49m\u001b[38;5;241;43m.\u001b[39;49m\u001b[43mSeries\u001b[49m\u001b[43m(\u001b[49m\u001b[38;5;124;43m'\u001b[39;49m\u001b[38;5;124;43mBids\u001b[39;49m\u001b[38;5;124;43m'\u001b[39;49m\u001b[43m,\u001b[49m\u001b[43m \u001b[49m\u001b[43mbids\u001b[49m\u001b[43m)\u001b[49m\n\u001b[0;32m      5\u001b[0m ])\n\u001b[0;32m      7\u001b[0m save_dir \u001b[38;5;241m=\u001b[39m os\u001b[38;5;241m.\u001b[39mpath\u001b[38;5;241m.\u001b[39mjoin(os\u001b[38;5;241m.\u001b[39mgetcwd(), \u001b[38;5;124mf\u001b[39m\u001b[38;5;124m'\u001b[39m\u001b[38;5;132;01m{\u001b[39;00mranges[\u001b[38;5;241m0\u001b[39m]\u001b[38;5;132;01m}\u001b[39;00m\u001b[38;5;124m_\u001b[39m\u001b[38;5;132;01m{\u001b[39;00mranges[\u001b[38;5;241m1\u001b[39m]\u001b[38;5;132;01m}\u001b[39;00m\u001b[38;5;124m.csv\u001b[39m\u001b[38;5;124m'\u001b[39m)\n\u001b[0;32m      8\u001b[0m merged_df\u001b[38;5;241m.\u001b[39mwrite_csv(save_dir)\n",
      "File \u001b[1;32m~\\anaconda3\\lib\\site-packages\\polars\\series\\series.py:289\u001b[0m, in \u001b[0;36mSeries.__init__\u001b[1;34m(self, name, values, dtype, strict, nan_to_null)\u001b[0m\n\u001b[0;32m    286\u001b[0m         \u001b[38;5;28;01mraise\u001b[39;00m \u001b[38;5;167;01mTypeError\u001b[39;00m(msg)\n\u001b[0;32m    288\u001b[0m \u001b[38;5;28;01mif\u001b[39;00m \u001b[38;5;28misinstance\u001b[39m(values, Sequence):\n\u001b[1;32m--> 289\u001b[0m     \u001b[38;5;28mself\u001b[39m\u001b[38;5;241m.\u001b[39m_s \u001b[38;5;241m=\u001b[39m \u001b[43msequence_to_pyseries\u001b[49m\u001b[43m(\u001b[49m\n\u001b[0;32m    290\u001b[0m \u001b[43m        \u001b[49m\u001b[43mname\u001b[49m\u001b[43m,\u001b[49m\n\u001b[0;32m    291\u001b[0m \u001b[43m        \u001b[49m\u001b[43mvalues\u001b[49m\u001b[43m,\u001b[49m\n\u001b[0;32m    292\u001b[0m \u001b[43m        \u001b[49m\u001b[43mdtype\u001b[49m\u001b[38;5;241;43m=\u001b[39;49m\u001b[43mdtype\u001b[49m\u001b[43m,\u001b[49m\n\u001b[0;32m    293\u001b[0m \u001b[43m        \u001b[49m\u001b[43mstrict\u001b[49m\u001b[38;5;241;43m=\u001b[39;49m\u001b[43mstrict\u001b[49m\u001b[43m,\u001b[49m\n\u001b[0;32m    294\u001b[0m \u001b[43m        \u001b[49m\u001b[43mnan_to_null\u001b[49m\u001b[38;5;241;43m=\u001b[39;49m\u001b[43mnan_to_null\u001b[49m\u001b[43m,\u001b[49m\n\u001b[0;32m    295\u001b[0m \u001b[43m    \u001b[49m\u001b[43m)\u001b[49m\n\u001b[0;32m    297\u001b[0m \u001b[38;5;28;01melif\u001b[39;00m values \u001b[38;5;129;01mis\u001b[39;00m \u001b[38;5;28;01mNone\u001b[39;00m:\n\u001b[0;32m    298\u001b[0m     \u001b[38;5;28mself\u001b[39m\u001b[38;5;241m.\u001b[39m_s \u001b[38;5;241m=\u001b[39m sequence_to_pyseries(name, [], dtype\u001b[38;5;241m=\u001b[39mdtype)\n",
      "File \u001b[1;32m~\\anaconda3\\lib\\site-packages\\polars\\_utils\\construction\\series.py:293\u001b[0m, in \u001b[0;36msequence_to_pyseries\u001b[1;34m(name, values, dtype, strict, nan_to_null)\u001b[0m\n\u001b[0;32m    290\u001b[0m     \u001b[38;5;28;01mexcept\u001b[39;00m \u001b[38;5;167;01mRuntimeError\u001b[39;00m:\n\u001b[0;32m    291\u001b[0m         \u001b[38;5;28;01mreturn\u001b[39;00m PySeries\u001b[38;5;241m.\u001b[39mnew_from_any_values(name, values, strict\u001b[38;5;241m=\u001b[39mstrict)\n\u001b[1;32m--> 293\u001b[0m \u001b[38;5;28;01mreturn\u001b[39;00m \u001b[43m_construct_series_with_fallbacks\u001b[49m\u001b[43m(\u001b[49m\n\u001b[0;32m    294\u001b[0m \u001b[43m    \u001b[49m\u001b[43mconstructor\u001b[49m\u001b[43m,\u001b[49m\u001b[43m \u001b[49m\u001b[43mname\u001b[49m\u001b[43m,\u001b[49m\u001b[43m \u001b[49m\u001b[43mvalues\u001b[49m\u001b[43m,\u001b[49m\u001b[43m \u001b[49m\u001b[43mdtype\u001b[49m\u001b[43m,\u001b[49m\u001b[43m \u001b[49m\u001b[43mstrict\u001b[49m\u001b[38;5;241;43m=\u001b[39;49m\u001b[43mstrict\u001b[49m\n\u001b[0;32m    295\u001b[0m \u001b[43m\u001b[49m\u001b[43m)\u001b[49m\n",
      "File \u001b[1;32m~\\anaconda3\\lib\\site-packages\\polars\\_utils\\construction\\series.py:311\u001b[0m, in \u001b[0;36m_construct_series_with_fallbacks\u001b[1;34m(constructor, name, values, dtype, strict)\u001b[0m\n\u001b[0;32m    309\u001b[0m \u001b[38;5;28;01mexcept\u001b[39;00m \u001b[38;5;167;01mTypeError\u001b[39;00m:\n\u001b[0;32m    310\u001b[0m     \u001b[38;5;28;01mif\u001b[39;00m dtype \u001b[38;5;129;01mis\u001b[39;00m \u001b[38;5;28;01mNone\u001b[39;00m:\n\u001b[1;32m--> 311\u001b[0m         \u001b[38;5;28;01mreturn\u001b[39;00m \u001b[43mPySeries\u001b[49m\u001b[38;5;241;43m.\u001b[39;49m\u001b[43mnew_from_any_values\u001b[49m\u001b[43m(\u001b[49m\u001b[43mname\u001b[49m\u001b[43m,\u001b[49m\u001b[43m \u001b[49m\u001b[43mvalues\u001b[49m\u001b[43m,\u001b[49m\u001b[43m \u001b[49m\u001b[43mstrict\u001b[49m\u001b[38;5;241;43m=\u001b[39;49m\u001b[43mstrict\u001b[49m\u001b[43m)\u001b[49m\n\u001b[0;32m    312\u001b[0m     \u001b[38;5;28;01melse\u001b[39;00m:\n\u001b[0;32m    313\u001b[0m         \u001b[38;5;28;01mreturn\u001b[39;00m PySeries\u001b[38;5;241m.\u001b[39mnew_from_any_values_and_dtype(\n\u001b[0;32m    314\u001b[0m             name, values, dtype, strict\u001b[38;5;241m=\u001b[39mstrict\n\u001b[0;32m    315\u001b[0m         )\n",
      "\u001b[1;31mTypeError\u001b[0m: unexpected value while building Series of type String; found value of type Int64: 0\n\nHint: Try setting `strict=False` to allow passing data with mixed types."
     ]
    }
   ],
   "source": [
    "df = df[ranges[0]:ranges[1]]\n",
    "merged_df = df.with_columns([\n",
    "    pl.Series('Competition Type', comp_type),\n",
    "    pl.Series('Bids', bids)\n",
    "])\n",
    "\n",
    "save_dir = os.path.join(os.getcwd(), f'{ranges[0]}_{ranges[1]}.csv')\n",
    "merged_df.write_csv(save_dir)"
   ]
  },
  {
   "cell_type": "code",
   "execution_count": null,
   "id": "535b51e5",
   "metadata": {},
   "outputs": [],
   "source": []
  }
 ],
 "metadata": {
  "kernelspec": {
   "display_name": "Python 3 (ipykernel)",
   "language": "python",
   "name": "python3"
  },
  "language_info": {
   "codemirror_mode": {
    "name": "ipython",
    "version": 3
   },
   "file_extension": ".py",
   "mimetype": "text/x-python",
   "name": "python",
   "nbconvert_exporter": "python",
   "pygments_lexer": "ipython3",
   "version": "3.9.12"
  }
 },
 "nbformat": 4,
 "nbformat_minor": 5
}
