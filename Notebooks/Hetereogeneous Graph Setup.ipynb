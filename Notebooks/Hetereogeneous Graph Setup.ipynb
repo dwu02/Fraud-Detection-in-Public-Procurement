{
 "cells": [
  {
   "cell_type": "markdown",
   "id": "c7bb2730",
   "metadata": {},
   "source": [
    "### Imports"
   ]
  },
  {
   "cell_type": "code",
   "execution_count": 1,
   "id": "acb50f75",
   "metadata": {},
   "outputs": [
    {
     "data": {
      "text/plain": [
       "42"
      ]
     },
     "execution_count": 1,
     "metadata": {},
     "output_type": "execute_result"
    }
   ],
   "source": [
    "import pandas as pd\n",
    "import torch\n",
    "import numpy as np\n",
    "import torch.nn as nn\n",
    "import torch.nn.functional as F\n",
    "from sklearn.preprocessing import LabelEncoder, StandardScaler, OneHotEncoder\n",
    "from sklearn.compose import ColumnTransformer\n",
    "from torch_geometric.data import HeteroData\n",
    "from torch_geometric.nn import HeteroConv, SAGEConv\n",
    "from torch_geometric.nn.models import GAE\n",
    "from tqdm import tqdm\n",
    "from sklearn.model_selection import KFold\n",
    "from sklearn.metrics import roc_auc_score, average_precision_score\n",
    "import time\n",
    "import os\n",
    "\n",
    "# for outputting fit and inference time also garbage collection\n",
    "from IPython.display import clear_output\n",
    "from gc import collect\n",
    "clear_output();\n",
    "collect()"
   ]
  },
  {
   "cell_type": "markdown",
   "id": "622c9154",
   "metadata": {},
   "source": [
    "### Load Data"
   ]
  },
  {
   "cell_type": "code",
   "execution_count": 2,
   "id": "73b0ca90",
   "metadata": {},
   "outputs": [
    {
     "data": {
      "text/plain": [
       "0"
      ]
     },
     "execution_count": 2,
     "metadata": {},
     "output_type": "execute_result"
    }
   ],
   "source": [
    "cur_dir = os.getcwd()\n",
    "par_dir = os.path.dirname(cur_dir)\n",
    "all_data = os.path.join(par_dir, 'All Data')\n",
    "os.listdir(all_data)\n",
    "clear_output();\n",
    "collect()"
   ]
  },
  {
   "cell_type": "code",
   "execution_count": 3,
   "id": "aa0c06e9",
   "metadata": {},
   "outputs": [
    {
     "name": "stdout",
     "output_type": "stream",
     "text": [
      "(52881, 12)\n"
     ]
    },
    {
     "data": {
      "text/html": [
       "<div>\n",
       "<style scoped>\n",
       "    .dataframe tbody tr th:only-of-type {\n",
       "        vertical-align: middle;\n",
       "    }\n",
       "\n",
       "    .dataframe tbody tr th {\n",
       "        vertical-align: top;\n",
       "    }\n",
       "\n",
       "    .dataframe thead th {\n",
       "        text-align: right;\n",
       "    }\n",
       "</style>\n",
       "<table border=\"1\" class=\"dataframe\">\n",
       "  <thead>\n",
       "    <tr style=\"text-align: right;\">\n",
       "      <th></th>\n",
       "      <th>Contract ID</th>\n",
       "      <th>NAICS</th>\n",
       "      <th>Date Signed</th>\n",
       "      <th>Contracting Agency ID</th>\n",
       "      <th>PSC</th>\n",
       "      <th>Region</th>\n",
       "      <th>Business Entity ID</th>\n",
       "      <th>Action Obligation ($)</th>\n",
       "      <th>Modification Count</th>\n",
       "      <th>Total Modified Action Obligation ($)</th>\n",
       "      <th>Competition Type</th>\n",
       "      <th>Bids</th>\n",
       "    </tr>\n",
       "  </thead>\n",
       "  <tbody>\n",
       "    <tr>\n",
       "      <th>0</th>\n",
       "      <td>GS11P14MAP0340</td>\n",
       "      <td>236220</td>\n",
       "      <td>2014-10-16</td>\n",
       "      <td>4740</td>\n",
       "      <td>Z2AA</td>\n",
       "      <td>Southeast</td>\n",
       "      <td>RWDWFG6WGRK9</td>\n",
       "      <td>644325</td>\n",
       "      <td>1</td>\n",
       "      <td>28426</td>\n",
       "      <td>Restricted</td>\n",
       "      <td>1</td>\n",
       "    </tr>\n",
       "    <tr>\n",
       "      <th>1</th>\n",
       "      <td>IND0407CT66810</td>\n",
       "      <td>236220</td>\n",
       "      <td>2006-12-21</td>\n",
       "      <td>1406</td>\n",
       "      <td>Y199</td>\n",
       "      <td>West</td>\n",
       "      <td>U4K9M66MUHR9</td>\n",
       "      <td>68450</td>\n",
       "      <td>0</td>\n",
       "      <td>0</td>\n",
       "      <td>Restricted</td>\n",
       "      <td>1</td>\n",
       "    </tr>\n",
       "    <tr>\n",
       "      <th>2</th>\n",
       "      <td>W912LD06C0036</td>\n",
       "      <td>236220</td>\n",
       "      <td>2006-09-25</td>\n",
       "      <td>2100</td>\n",
       "      <td>Y111</td>\n",
       "      <td>Northeast</td>\n",
       "      <td>EATDZJL6JFJ5</td>\n",
       "      <td>12573650</td>\n",
       "      <td>15</td>\n",
       "      <td>556384</td>\n",
       "      <td>Open</td>\n",
       "      <td>5</td>\n",
       "    </tr>\n",
       "    <tr>\n",
       "      <th>3</th>\n",
       "      <td>GS11P06ZGC0339</td>\n",
       "      <td>236220</td>\n",
       "      <td>2006-10-17</td>\n",
       "      <td>4740</td>\n",
       "      <td>J039</td>\n",
       "      <td>Southeast</td>\n",
       "      <td>QKCFMFL4MKT6</td>\n",
       "      <td>11943</td>\n",
       "      <td>1</td>\n",
       "      <td>1504</td>\n",
       "      <td>Restricted</td>\n",
       "      <td>1</td>\n",
       "    </tr>\n",
       "    <tr>\n",
       "      <th>4</th>\n",
       "      <td>HHSD200200618928C</td>\n",
       "      <td>236220</td>\n",
       "      <td>2006-08-30</td>\n",
       "      <td>7523</td>\n",
       "      <td>Y111</td>\n",
       "      <td>Midwest</td>\n",
       "      <td>TTHNY8N2PQR3</td>\n",
       "      <td>192500</td>\n",
       "      <td>1</td>\n",
       "      <td>38349</td>\n",
       "      <td>Open</td>\n",
       "      <td>1</td>\n",
       "    </tr>\n",
       "  </tbody>\n",
       "</table>\n",
       "</div>"
      ],
      "text/plain": [
       "         Contract ID   NAICS Date Signed Contracting Agency ID   PSC  \\\n",
       "0     GS11P14MAP0340  236220  2014-10-16                  4740  Z2AA   \n",
       "1     IND0407CT66810  236220  2006-12-21                  1406  Y199   \n",
       "2      W912LD06C0036  236220  2006-09-25                  2100  Y111   \n",
       "3     GS11P06ZGC0339  236220  2006-10-17                  4740  J039   \n",
       "4  HHSD200200618928C  236220  2006-08-30                  7523  Y111   \n",
       "\n",
       "      Region Business Entity ID  Action Obligation ($)  Modification Count  \\\n",
       "0  Southeast       RWDWFG6WGRK9                 644325                   1   \n",
       "1       West       U4K9M66MUHR9                  68450                   0   \n",
       "2  Northeast       EATDZJL6JFJ5               12573650                  15   \n",
       "3  Southeast       QKCFMFL4MKT6                  11943                   1   \n",
       "4    Midwest       TTHNY8N2PQR3                 192500                   1   \n",
       "\n",
       "   Total Modified Action Obligation ($) Competition Type  Bids  \n",
       "0                                 28426       Restricted     1  \n",
       "1                                     0       Restricted     1  \n",
       "2                                556384             Open     5  \n",
       "3                                  1504       Restricted     1  \n",
       "4                                 38349             Open     1  "
      ]
     },
     "execution_count": 3,
     "metadata": {},
     "output_type": "execute_result"
    }
   ],
   "source": [
    "primary_folder = os.path.join(all_data, 'Bid Info Downloader') \n",
    "primary_data = os.path.join(primary_folder, 'combined_bids.csv')\n",
    "prim_df = pd.read_csv(primary_data)\n",
    "print(prim_df.shape)\n",
    "prim_df.head()"
   ]
  },
  {
   "cell_type": "code",
   "execution_count": 4,
   "id": "c2871c9e",
   "metadata": {},
   "outputs": [
    {
     "data": {
      "text/plain": [
       "0"
      ]
     },
     "execution_count": 4,
     "metadata": {},
     "output_type": "execute_result"
    }
   ],
   "source": [
    "# encoding\n",
    "vendor_enc = LabelEncoder()\n",
    "contract_enc = LabelEncoder()\n",
    "agency_enc = LabelEncoder()\n",
    "\n",
    "# transform the ids to integer which is easier to process\n",
    "prim_df['vendor_id'] = vendor_enc.fit_transform(prim_df['Business Entity ID'])\n",
    "prim_df['contract_id'] = contract_enc.fit_transform(prim_df['Contract ID'])\n",
    "prim_df['agency_id'] = agency_enc.fit_transform(prim_df['Contracting Agency ID'])\n",
    "\n",
    "# for report\n",
    "num_vendors = prim_df['vendor_id'].nunique()\n",
    "num_contracts = prim_df['contract_id'].nunique()\n",
    "num_agencies = prim_df['agency_id'].nunique()\n",
    "\n",
    "clear_output();\n",
    "collect()"
   ]
  },
  {
   "cell_type": "code",
   "execution_count": 5,
   "id": "24c39a60",
   "metadata": {},
   "outputs": [],
   "source": [
    "# feature engineering, adding node attributes\n",
    "\n",
    "def process_features(df, group_key, num_cols, cat_cols):\n",
    "    grouped = df.groupby(group_key).agg({\n",
    "        **{col: 'mean' for col in num_cols},\n",
    "        **{col: lambda x: x.mode().iloc[0] if not x.mode().empty else 'Unknown' for col in cat_cols}\n",
    "    }).reset_index()\n",
    "\n",
    "    preprocessor = ColumnTransformer([\n",
    "        ('num', StandardScaler(), num_cols),\n",
    "        ('cat', OneHotEncoder(sparse_output=False, handle_unknown='ignore'), cat_cols)\n",
    "    ])\n",
    "    features = preprocessor.fit_transform(grouped)\n",
    "    return grouped[group_key].values, torch.tensor(features, dtype=torch.float)\n"
   ]
  },
  {
   "cell_type": "code",
   "execution_count": 6,
   "id": "28d8cb02",
   "metadata": {},
   "outputs": [
    {
     "name": "stdout",
     "output_type": "stream",
     "text": [
      "CPU times: total: 35.3 s\n",
      "Wall time: 36.4 s\n"
     ]
    },
    {
     "data": {
      "text/plain": [
       "48"
      ]
     },
     "execution_count": 6,
     "metadata": {},
     "output_type": "execute_result"
    }
   ],
   "source": [
    "%%time\n",
    "vendor_ids, vendor_x = process_features(\n",
    "    prim_df, 'vendor_id',\n",
    "    num_cols=['Action Obligation ($)', 'Modification Count', 'Total Modified Action Obligation ($)', 'Bids'],\n",
    "    cat_cols=['Region', 'NAICS']\n",
    ")\n",
    "\n",
    "contract_ids, contract_x = process_features(\n",
    "    prim_df, 'contract_id',\n",
    "    num_cols=['Action Obligation ($)', 'Modification Count', 'Total Modified Action Obligation ($)', 'Bids'],\n",
    "    cat_cols=['PSC', 'Competition Type']\n",
    ")\n",
    "\n",
    "agency_ids, agency_x = process_features(\n",
    "    prim_df, 'agency_id',\n",
    "    num_cols=['Action Obligation ($)', 'Modification Count', 'Total Modified Action Obligation ($)', 'Bids'],\n",
    "    cat_cols=['PSC']\n",
    ")\n",
    "\n",
    "clear_output()\n",
    "collect()"
   ]
  },
  {
   "cell_type": "code",
   "execution_count": 7,
   "id": "e430b80a",
   "metadata": {},
   "outputs": [
    {
     "name": "stdout",
     "output_type": "stream",
     "text": [
      "CPU times: total: 234 ms\n",
      "Wall time: 250 ms\n"
     ]
    },
    {
     "data": {
      "text/plain": [
       "0"
      ]
     },
     "execution_count": 7,
     "metadata": {},
     "output_type": "execute_result"
    }
   ],
   "source": [
    "%%time\n",
    "# node and attributes\n",
    "data = HeteroData()\n",
    "data['vendor'].x = vendor_x\n",
    "data['contract'].x = contract_x\n",
    "data['agency'].x = agency_x\n",
    "\n",
    "clear_output()\n",
    "collect()"
   ]
  },
  {
   "cell_type": "code",
   "execution_count": 8,
   "id": "03f79e66",
   "metadata": {},
   "outputs": [
    {
     "name": "stdout",
     "output_type": "stream",
     "text": [
      "CPU times: total: 344 ms\n",
      "Wall time: 314 ms\n"
     ]
    },
    {
     "data": {
      "text/plain": [
       "0"
      ]
     },
     "execution_count": 8,
     "metadata": {},
     "output_type": "execute_result"
    }
   ],
   "source": [
    "%%time\n",
    "# construct edges\n",
    "vendor_contract_edges = torch.tensor([prim_df['vendor_id'].values, prim_df['contract_id'].values], dtype=torch.long)\n",
    "contract_agency_edges = torch.tensor([prim_df['contract_id'].values, prim_df['agency_id'].values], dtype=torch.long)\n",
    "\n",
    "data['vendor', 'bids_on', 'contract'].edge_index = vendor_contract_edges\n",
    "data['contract', 'bid_received_from', 'vendor'].edge_index = vendor_contract_edges.flip(0)\n",
    "data['contract', 'awarded_by', 'agency'].edge_index = contract_agency_edges\n",
    "data['agency', 'awards', 'contract'].edge_index = contract_agency_edges.flip(0)\n",
    "\n",
    "clear_output()\n",
    "collect()"
   ]
  }
 ],
 "metadata": {
  "kernelspec": {
   "display_name": "Python 3 (ipykernel)",
   "language": "python",
   "name": "python3"
  },
  "language_info": {
   "codemirror_mode": {
    "name": "ipython",
    "version": 3
   },
   "file_extension": ".py",
   "mimetype": "text/x-python",
   "name": "python",
   "nbconvert_exporter": "python",
   "pygments_lexer": "ipython3",
   "version": "3.9.12"
  }
 },
 "nbformat": 4,
 "nbformat_minor": 5
}
